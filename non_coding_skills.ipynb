{
  "cells": [
    {
      "cell_type": "markdown",
      "source": [
        "## Contents"
      ],
      "metadata": {
        "id": "OSFCELVZZgrr"
      }
    },
    {
      "cell_type": "markdown",
      "metadata": {
        "id": "UDTDQabUYhp4"
      },
      "source": [
        "* Documenting Your Code\n",
        "* Reading Documentation and Learning Libraries\n",
        "* Planning scripts/programs\n",
        "  * Diagram types\n",
        "  * Processes"
      ]
    },
    {
      "cell_type": "markdown",
      "source": [
        "### Documenting Your Code"
      ],
      "metadata": {
        "id": "oPRpnc8BZxXq"
      }
    },
    {
      "cell_type": "markdown",
      "source": [
        "Software devs have been fighting over the \"proper\" or \"best\" way to do this for decades and will probably continue to do so for centuries. Everyone has their own agreed-upon \"best practice\" or opinion, but there's no option that is perfect in all cases."
      ],
      "metadata": {
        "id": "_7wDVCquiEpE"
      }
    },
    {
      "cell_type": "markdown",
      "source": [
        "That said, here are some tips that I've found helpful:\n",
        "\n",
        "* make names as descriptive as possible\n",
        "  * shorter is easier to read, but longer has more room to be descriptive (I prefer aiming for the shorter end)\n",
        "\n",
        "* if names aren't enough to fully explain what's going on, use comments\n",
        "  * comments are a last resort since they don't get checked/updated as often as code does\n",
        "  * helpful comments often explain:\n",
        "    * weird/unfamiliar code/techniques\n",
        "    * context that significantly affected how the code was written (i.e. odd constraints)\n",
        "    * where the code came from if an outside source was used (helpful documentation, articles, forum posts, AI prompts, etc)\n",
        "\n",
        "* consider your audience\n",
        "  * if others will *use* your code, take extra care to document properly according to agreed conventions\n",
        "    * if you don't know and can't find them, copy the style of someone else in the field\n",
        "    * you can also use *documentation generation tools* found online\n",
        "  * if you're the only person who will likely ever see/use the code, write down all your steps and sources\n",
        "    * helpful for the paper/presentation and for future you who won't remember all the details"
      ],
      "metadata": {
        "id": "AqU3Pm9bkBVt"
      }
    },
    {
      "cell_type": "markdown",
      "source": [
        "### Reading Documentation and Learning Libraries"
      ],
      "metadata": {
        "id": "p4YM72vziG5t"
      }
    },
    {
      "cell_type": "markdown",
      "source": [
        "This is a skill that genuinely just takes time to get used to. It involves a lot of raw reading and just trying things to see how they turn out. Don't be afraid of failure, especially here. Fail fast so you can learn fast. The more you do it, the more you get used to a library's philosophy and way of doing things and the more you get used to the process of learning a library."
      ],
      "metadata": {
        "id": "KOzSYTUUs9OM"
      }
    },
    {
      "cell_type": "markdown",
      "source": [
        "That said, some tips:\n",
        "* skim/read through \"Quick Start\" guides, \"Introductions\", and `README`s for an overview of the library\n",
        "* tutorials and examples are your best friends\n",
        "  * if time allows, recreate them, understand them, then expand upon or incorporate them in your project\n",
        "* most of your time will be spent in the \"API Reference\" or equivalent sections\n",
        "\n",
        "* look things up as you need them, no need to exhaustively read ALL the docs before you start coding\n",
        "* when you are reading, determine whether you're looking at a `class` or a `function`\n",
        "  * for classes:\n",
        "    * note what initial parameters you can set and use any available examples/tutorials to see how they affect the result\n",
        "    * note the available functions within the class (only read them in detail as you need to)\n",
        "\n",
        "  * for functions:\n",
        "    * focus on the arguments, return types, and their expanded sections, they should give most of the info you need\n",
        "    * just like with loops, take special care with arguments are single items vs. collections of items"
      ],
      "metadata": {
        "id": "yrCxbpOma6ll"
      }
    },
    {
      "cell_type": "markdown",
      "source": [
        "### Planning Scripts"
      ],
      "metadata": {
        "id": "gfhGCK6yiMH2"
      }
    },
    {
      "cell_type": "markdown",
      "metadata": {
        "id": "CzUP45K7Yhp-"
      },
      "source": [
        "# explain diagrams (UML?) and walk through example on call"
      ]
    },
    {
      "cell_type": "markdown",
      "metadata": {
        "id": "nicVmoWLYhp-"
      },
      "source": [
        "* break down steps even further\n",
        "  * get to usual stopping point\n",
        "  * for each step/bullet, ask yourself \"what data are needed to do this? what operations/changes are being done on that data?\"\n",
        "    * note those as sub-bullets or connected bubbles or something\n",
        "    * for the data, note its structure (in other words, what does it consist of?)\n",
        "      * for example, an object in some simulation might consist of variables for mass, momentum, velocity, acceleration, etc\n",
        "  * do you notice any repetition or patterns?\n",
        "    * patterns in data can be abstracted out into a class interface or some dictionary/list data structure\n",
        "    * patterns in operations can be put inside functions\n",
        "    * if you do notice patterns, write down what the generalized form of the data and functions will be (data properties, function signatures, class interfaces)\n",
        "  * for each of those sub-bullets/bubbles/etc, consider how to represent them or how to do them and what libraries might be involved\n",
        "  * execute according to plan\n",
        "    * BE FLEXIBLE\n",
        "      * you'll think of better ways to do things or encounter problems with your original plan as you go\n",
        "      * let them happen because nobody, not even senior engineers can catch all the issues at the beginning (but with experience you can catch most)\n",
        "      * also this is research, like you said, you don't fully know what you're gonna do or need to do, change is arguably more inevitable than in normal software\n",
        "      * don't worry too much about cleanliness, code beauty, ease of use, etc until the code becomes annoying/slow/a hindrance to work with\n",
        "        * nobody else is gonna see this unless you're making a library or publishing code on github for a new process or something"
      ]
    },
    {
      "cell_type": "markdown",
      "metadata": {
        "id": "NnKwUy21Yhp_"
      },
      "source": [
        "* if the steps above look like too much (understandable), remember that we're being intentionally excessive in breaking things down\n",
        "  * ensures that we have as few questions as possible before starting, makes room for all the questions and debugging that might pop up\n",
        "* bugs often come from faulty algos or wrong assumptions\n",
        "  * thus debugging is, at a high level, mostly figuring out what special case we left out or what misunderstanding we have of some section of code\n",
        "  * at a lower level, this can include going through code step by step (manually or with a debugging tool, more on this below) and printing values throughout the code\n",
        "* don't worry too much about memorizing syntax\n",
        "  * that's the stuff that's easy to look up in documentation, geeksforgeeks, tutorials, etc\n",
        "* ideally, if you have time, study the solution you found after copy-pasting their code\n",
        "  * see what they did differently and why it works when yours didn't"
      ]
    },
    {
      "cell_type": "markdown",
      "metadata": {
        "id": "cvE3ywqvYhqA"
      },
      "source": [
        "https://medium.com/codex/how-to-debug-jupyter-notebooks-in-visual-studio-code-3d36039c6f86\n",
        "\n",
        "https://code.visualstudio.com/docs/datascience/jupyter-notebooks#_debug-a-jupyter-notebook"
      ]
    }
  ],
  "metadata": {
    "language_info": {
      "name": "python"
    },
    "colab": {
      "provenance": []
    },
    "kernelspec": {
      "name": "python3",
      "display_name": "Python 3"
    }
  },
  "nbformat": 4,
  "nbformat_minor": 0
}