{
  "cells": [
    {
      "cell_type": "markdown",
      "source": [
        "## Contents"
      ],
      "metadata": {
        "id": "KDF1SvJisefZ"
      }
    },
    {
      "cell_type": "markdown",
      "metadata": {
        "id": "YQmREy3s2T3L"
      },
      "source": [
        "* [Functions](#functions)\n",
        "* Code Abstractions (Functions and Classes)\n",
        "\t* Ways to Structure Code\n",
        "\t* Documenting Code\n",
        "* Variable Scope"
      ]
    },
    {
      "cell_type": "markdown",
      "source": [
        "### Functions"
      ],
      "metadata": {
        "id": "0vGInxfWspAF"
      }
    },
    {
      "cell_type": "markdown",
      "source": [
        "Groups code together under a given name for easy reuse on demand."
      ],
      "metadata": {
        "id": "D9_h6mBd7RiH"
      }
    },
    {
      "cell_type": "markdown",
      "source": [
        "ALL functions have 4 main parts to consider or outline:\n",
        "1. the body\n",
        "  * the code inside the function that dictate what it actually does\n",
        "  * this can include inner functions, loops, etc\n",
        "2. the argument(s)\n",
        "  * what value(s) *could* change each time you call/use the function\n",
        "3. the return value(s)\n",
        "  * what value(s) the function gives back to the the caller (if any)\n",
        "4. the name\n",
        "  * how you'll call the function"
      ],
      "metadata": {
        "id": "ecuETDti78pS"
      }
    },
    {
      "cell_type": "code",
      "execution_count": null,
      "metadata": {
        "id": "3CbHRyq52T3e"
      },
      "outputs": [],
      "source": [
        "def talk(msg):  # name & argument all on 1 line\n",
        "  print(msg)    # body\n",
        "  return msg    # return value\n",
        "\n",
        "ret = talk(\"peepeepoopoo\")\n",
        "print(f\"ret: {ret}\")"
      ]
    },
    {
      "cell_type": "markdown",
      "source": [
        "* **EVERY** function needs a name, but everything else is optional\n",
        "  * a function without arguments just does the exact same thing every time\n",
        "  * a function without return values just doesn't give anything back (often just changing some state)\n",
        "  * a function without a body is almost always useless"
      ],
      "metadata": {
        "id": "k7tA9UENC5NB"
      }
    },
    {
      "cell_type": "code",
      "source": [],
      "metadata": {
        "id": "3FX7qIknB084"
      },
      "execution_count": null,
      "outputs": []
    }
  ],
  "metadata": {
    "language_info": {
      "name": "python"
    },
    "colab": {
      "provenance": []
    },
    "kernelspec": {
      "name": "python3",
      "display_name": "Python 3"
    }
  },
  "nbformat": 4,
  "nbformat_minor": 0
}