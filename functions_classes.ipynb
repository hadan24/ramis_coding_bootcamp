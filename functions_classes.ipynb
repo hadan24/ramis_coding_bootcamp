{
 "cells": [
  {
   "cell_type": "markdown",
   "metadata": {},
   "source": [
    "* Code Abstractions (Functions and Classes)\n",
    "\t* Ways to Structure Code\n",
    "\t* Documenting Code\n",
    "* Variable Scope"
   ]
  },
  {
   "cell_type": "code",
   "execution_count": null,
   "metadata": {},
   "outputs": [],
   "source": []
  }
 ],
 "metadata": {
  "language_info": {
   "name": "python"
  }
 },
 "nbformat": 4,
 "nbformat_minor": 2
}
