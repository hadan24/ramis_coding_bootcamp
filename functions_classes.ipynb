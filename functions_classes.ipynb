{
  "cells": [
    {
      "cell_type": "markdown",
      "source": [
        "## Contents"
      ],
      "metadata": {
        "id": "KDF1SvJisefZ"
      }
    },
    {
      "cell_type": "markdown",
      "metadata": {
        "id": "YQmREy3s2T3L"
      },
      "source": [
        "* [Functions](#functions)\n",
        "\t* [Parameters](#parameters)\n",
        "\t* [Advanced Parameter Stuff](#advanced-parameter-stuff)\n",
        "\t* [Return Values](#return-values)\n",
        "* [Classes](#classes)\n",
        "* [Variable Scope](#variable-scope)\n",
        "* [Code Organization](#code-organization)\n",
        "\t* [Procedural Programming](#procedural-programming)\n",
        "\t* [Object-Oriented Programming](#object-oriented-programming)\n",
        "\t* [Functional Programming](#functional-programming)"
      ]
    },
    {
      "cell_type": "markdown",
      "source": [
        "### Functions"
      ],
      "metadata": {
        "id": "0vGInxfWspAF"
      }
    },
    {
      "cell_type": "markdown",
      "source": [
        "Groups code together under a given name for easy reuse on demand."
      ],
      "metadata": {
        "id": "D9_h6mBd7RiH"
      }
    },
    {
      "cell_type": "markdown",
      "source": [
        "ALL functions have 4 main parts to consider or outline:\n",
        "1. the body\n",
        "  * the code inside the function that dictate what it actually does\n",
        "  * this can include inner functions, loops, etc\n",
        "2. the parameters/arguments list\n",
        "  * what value(s) *could* change each time you call/use the function\n",
        "  * can use parameters just like they're normal variables\n",
        "3. the return values/types\n",
        "  * what value(s) the function gives back to the the caller (if any)\n",
        "4. the name/identifier\n",
        "  * how you'll call the function"
      ],
      "metadata": {
        "id": "ecuETDti78pS"
      }
    },
    {
      "cell_type": "code",
      "execution_count": 1,
      "metadata": {
        "id": "3CbHRyq52T3e",
        "colab": {
          "base_uri": "https://localhost:8080/"
        },
        "outputId": "cd0544f9-11f4-48a1-a036-c551aa82c346"
      },
      "outputs": [
        {
          "output_type": "stream",
          "name": "stdout",
          "text": [
            "peepeepoopoo\n",
            "ret: 25\n"
          ]
        }
      ],
      "source": [
        "def talk(msg, num): # name & arguments all on 1 line\n",
        "  print(msg)        # body\n",
        "  return num ** 2   # return statement with \"msg\" as the return value\n",
        "\n",
        "ret = talk(\"peepeepoopoo\", 5)\n",
        "print(f\"ret: {ret}\")"
      ]
    },
    {
      "cell_type": "markdown",
      "source": [
        "Every function needs an explicit name, but everything else is optional\n",
        "  * a function without arguments just does the exact same thing every time\n",
        "  * a function without return values just doesn't give anything back (often just changing some state)\n",
        "  * a function without a body is almost always useless"
      ],
      "metadata": {
        "id": "k7tA9UENC5NB"
      }
    },
    {
      "cell_type": "code",
      "source": [
        "def no_args():      # No arguments (but has all other parts)\n",
        "  print(\"no args\")  # Will always print the same message\n",
        "  return 2 * 2      # and return the same value\n",
        "\n",
        "counter = 0\n",
        "def increase_counter(num):  # No return statement (but has all other parts)\n",
        "  counter += num            # Don't get anything back from the function,\n",
        "  print(counter)            # but change the state of the program\n",
        "\n",
        "\n",
        "def do_nothing(): # No body (but has all other parts)\n",
        "  return          # returns immediately so it effectively does nothing\n",
        "\n",
        "def do_nothing2():  # \"pass\" can be used in functions, classes, loops,\n",
        "  pass              # and if/else statements to explicitly do nothing\n",
        "\n",
        "def add(a, b):  # Technically no body since everything's in the return\n",
        "  return a + b  # Rare that functions will be *this* simple"
      ],
      "metadata": {
        "id": "3FX7qIknB084"
      },
      "execution_count": 2,
      "outputs": []
    },
    {
      "cell_type": "markdown",
      "source": [
        "The function's **signature** consists of its:\n",
        "* name,\n",
        "* parameter list,\n",
        "* and return types.\n",
        "\n",
        "Ideally, it's the bare minimum information you need to be able to use a function properly (you often need more in reality)."
      ],
      "metadata": {
        "id": "DJQXPu6XUE-7"
      }
    },
    {
      "cell_type": "markdown",
      "source": [
        "#### Parameters"
      ],
      "metadata": {
        "id": "GhFlaTD-Xwg5"
      }
    },
    {
      "cell_type": "markdown",
      "source": [
        "As the name suggests, they describe everything you need to know about all the function's parameters. This includes each parameter's:\n",
        "* name,\n",
        "* type (optional),\n",
        "* and default value (optional)"
      ],
      "metadata": {
        "id": "PeuwiIEheche"
      }
    },
    {
      "cell_type": "code",
      "source": [
        "def greet(name: str = \"Jane\"):  # name is \"name\", type is \"str\"\n",
        "  print(f\"Hi, I'm {name}.\")     # defaults to \"Jane\"\n",
        "\n",
        "greet()         # argument is optional since there's a default value\n",
        "greet(\"Alice\")  # but that default will be overridden if an argument is given"
      ],
      "metadata": {
        "id": "CXVknEaRXwD6",
        "colab": {
          "base_uri": "https://localhost:8080/"
        },
        "outputId": "0f1de74b-1223-4547-e1ba-57fd1330d7fa"
      },
      "execution_count": 3,
      "outputs": [
        {
          "output_type": "stream",
          "name": "stdout",
          "text": [
            "Hi, I'm Jane.\n",
            "Hi, I'm Alice.\n"
          ]
        }
      ]
    },
    {
      "cell_type": "code",
      "source": [
        "def greet2(name: str):      # no default value, so this parameter is\n",
        "  print(f\"Hi, I'm {name}.\") # REQUIRED for the function to run\n",
        "\n",
        "greet2(\"Alice\")\n",
        "greet2()  # This should return an error"
      ],
      "metadata": {
        "id": "YDON4MZT7Qqo"
      },
      "execution_count": null,
      "outputs": []
    },
    {
      "cell_type": "markdown",
      "source": [
        "A parameter's type can be inferred from other given information like its default value(s)."
      ],
      "metadata": {
        "id": "2AhgljsS8QQj"
      }
    },
    {
      "cell_type": "code",
      "source": [
        "def greet3(name = \"John\"):  # no explicit type, but if you hover over the\n",
        "  print(f\"Hi, I'm {name}.\") # function's name, you will see the type \"str\"\n",
        "\n",
        "greet3()\n",
        "greet3(\"Bob\")"
      ],
      "metadata": {
        "id": "TWFFKrTU76jI"
      },
      "execution_count": null,
      "outputs": []
    },
    {
      "cell_type": "markdown",
      "source": [
        "#### Advanced Parameter Stuff"
      ],
      "metadata": {
        "id": "uZE_eFujCgQp"
      }
    },
    {
      "cell_type": "markdown",
      "source": [
        "For functions like `matplotlib's` [plotting functions](https://matplotlib.org/stable/api/_as_gen/matplotlib.axes.Axes.plot.html), you might notice that they can take a lot more arguments than the documentation explicitly says (`color`, `linewidth`, etc). This is thanks to `*args` and `**kwargs`.\n",
        "\n",
        "It's unlikely that you'll use this often in data processing scripts, but it's helpful to know. More info can be found in this [StackOverflow thread](https://stackoverflow.com/questions/36901/what-does-double-star-asterisk-and-star-asterisk-do-for-parameters)."
      ],
      "metadata": {
        "id": "N20k8Z2DAFyl"
      }
    },
    {
      "cell_type": "code",
      "source": [
        "def weeee(*args):   # \"*args\" allows you to include an arbitrary\n",
        "  for arg in args:  # number of positional arguments in a function\n",
        "    print(f\"{arg}\") # accessible as a tuple\n",
        "\n",
        "weeee(\"eee\", 4, (2,3))"
      ],
      "metadata": {
        "id": "SH9bePZuAFkS"
      },
      "execution_count": null,
      "outputs": []
    },
    {
      "cell_type": "code",
      "source": [
        "def woooo(**kwargs):              # \"**kwargs\" allows you to include an arbitrary\n",
        "  for key, val in kwargs.items(): # number of KEYWORD arguments in a function\n",
        "    print(f\"{key}: {val}\")        # accessible as a dictionary\n",
        "\n",
        "woooo(a=1, b=\"two\", c=(3, 4))"
      ],
      "metadata": {
        "id": "WFYuyowFCM2x"
      },
      "execution_count": null,
      "outputs": []
    },
    {
      "cell_type": "markdown",
      "source": [
        "Parameter types can be more complex using tuples and `|`, but it's rare that you'll ever need to use these in data processing scripts. An easy/common example is below, but more complex and powerful typing tools are available in Python's [typing library](https://docs.python.org/3/library/typing.html)."
      ],
      "metadata": {
        "id": "OgPyVDMx9CtF"
      }
    },
    {
      "cell_type": "code",
      "source": [
        "def show_stat(stat = None): # this type is inferred to be \"Any | None\"\n",
        "  print(f\"stat: {stat}\")\n",
        "\n",
        "# \"Any\" is Python's default type, \"could be literally anything\"\n",
        "# there's both a \"None\" value and a \"None\" type\n",
        "show_stat()\n",
        "show_stat(1)\n",
        "\n",
        "import numpy as np\n",
        "def show_bundle(bundle: np.ndarray | tuple):  # parameter types can also\n",
        "  print(f\"bundle: {bundle}\")  # be other data structures (tuples, lists, etc)\n",
        "\n",
        "show_bundle((1, 2, 3))"
      ],
      "metadata": {
        "id": "RBEyMyaG72gH"
      },
      "execution_count": null,
      "outputs": []
    },
    {
      "cell_type": "markdown",
      "source": [
        "#### Return Values"
      ],
      "metadata": {
        "id": "1U63JWGK7BX2"
      }
    },
    {
      "cell_type": "markdown",
      "source": [
        "As the name suggests, these are what the function gives back to you, the caller.\n",
        "\n",
        "The function will always return whatever is after the `return` keyword. This value's type can be optionally given in the function signature or inferred just like parameter types."
      ],
      "metadata": {
        "id": "hw-JoqBMW78g"
      }
    },
    {
      "cell_type": "code",
      "source": [
        "def greet() -> None:  # return type is \"None\"\n",
        "  print(\"Hi\")         # function doesn't return anything\n",
        "  # return statement is thus optional\n",
        "\n",
        "greet()"
      ],
      "metadata": {
        "id": "ma5zPfW_7G_t"
      },
      "execution_count": null,
      "outputs": []
    },
    {
      "cell_type": "code",
      "source": [
        "def answer(num: int | float): # since there are exactly 2 possible ways this\n",
        "  if num == 42:               # function could be called, the return type\n",
        "    return \"THE ANSWER\"       # is inferred to be \"str | None\"\n",
        "  else:\n",
        "    return None\n",
        "\n",
        "print(answer(42))\n",
        "print(answer(1))"
      ],
      "metadata": {
        "id": "CyfwM3-mGFDs"
      },
      "execution_count": null,
      "outputs": []
    },
    {
      "cell_type": "markdown",
      "source": [
        "You can return multiple values from a function using built-in data structures.\n",
        "\n",
        "You can also just think of this as returning a single object with many parts (like a cube with lots of layers or a FITS file with lots of header properties)."
      ],
      "metadata": {
        "id": "cSQKaqiEHbqJ"
      }
    },
    {
      "cell_type": "code",
      "source": [
        "def evens_in_range(num) -> list:\n",
        "  evens = []\n",
        "  for i in range(num):\n",
        "    if i % 2 == 0:\n",
        "      evens.append(i)\n",
        "  return evens            # returns entire list of numbers\n",
        "\n",
        "def find_middle(colle: list) -> tuple:  # returns tuple containing\n",
        "  mid_index = len(colle) // 2           # index and value of middle element\n",
        "\n",
        "  return (mid_index, colle[mid_index])  # creates on-demand unnamed tuple to return\n",
        "\n",
        "\n",
        "print(evens_in_range(10))\n",
        "print(find_middle([1, 2, 3, 4, 5]))"
      ],
      "metadata": {
        "id": "EQnDTiLrGcew"
      },
      "execution_count": null,
      "outputs": []
    },
    {
      "cell_type": "markdown",
      "source": [
        "### Classes"
      ],
      "metadata": {
        "id": "jUT4UTpPt5vF"
      }
    },
    {
      "cell_type": "markdown",
      "source": [
        "These help group related data and functions together. They're especially good if the class has a fixed set of data for the entire script. It might help to think of a class as \"an object with built-in behaviors\"."
      ],
      "metadata": {
        "id": "0FCBXiMXt_Kg"
      }
    },
    {
      "cell_type": "code",
      "source": [
        "# Don't forget to run this cell!\n",
        "# It won't output anything but is needed for future cells\n",
        "class GuestList:\n",
        "\n",
        "  # __init__ ALWAYS gets run when the class object is first created\n",
        "  # Use this to set initial values for your class' data\n",
        "  def __init__(self, first_guests = None):\n",
        "    self.counter = 0\n",
        "\n",
        "    if first_guests != None:\n",
        "      self.name_list = first_guests\n",
        "    else:\n",
        "      self.name_list = []\n",
        "\n",
        "  # other class functions (returning or changing the data in some way)\n",
        "  # \"self\" refers to the class object you're calling the function on\n",
        "  def add_guest(self, name):\n",
        "    self.name_list.append(name)\n",
        "    self.counter += 1\n",
        "\n",
        "  def remove_guest(self, name):\n",
        "    self.name_list.remove(name)\n",
        "    self.counter -= 1\n",
        "\n",
        "  def show_guests(self):\n",
        "    print(self.counter, \"guests:\")\n",
        "    print(self.name_list)"
      ],
      "metadata": {
        "id": "fkbvxSDzt-0n"
      },
      "execution_count": null,
      "outputs": []
    },
    {
      "cell_type": "code",
      "source": [
        "# create an instance/object of the class\n",
        "party_list = GuestList()  # arguments for _init_ are given between the () here\n",
        "\n",
        "# to call class functions:\n",
        "# object . function_name()\n",
        "party_list.add_guest(\"Alice\")\n",
        "party_list.add_guest(\"Bob\")\n",
        "party_list.show_guests()"
      ],
      "metadata": {
        "id": "xRcuqbXn-XV1"
      },
      "execution_count": null,
      "outputs": []
    },
    {
      "cell_type": "markdown",
      "source": [
        "After the last several projects I helped you with or worked with you on, I realized classes are probably not the best option in most cases you'll encounter.\n",
        "\n",
        "You often need/want to save specific results of operations, and a dictionary will be a more convenient way of saving and accessing that data. Dictionaries come with lots of functions to easily access and view data, while classes have more boilerplate code (`self.X` everywhere) and you need to write that access yourself."
      ],
      "metadata": {
        "id": "kaLpEv1J2jBv"
      }
    },
    {
      "cell_type": "markdown",
      "source": [
        "If you do need a class, however, these are the basics. Lots more can be found through documentation, tutorials, and StackOverflow answers. If you need them, you may want to search for:\n",
        "* static/class vs. instance/object variables\n",
        "* static methods\n",
        "* decorators"
      ],
      "metadata": {
        "id": "oOMVyD7BKQ1H"
      }
    },
    {
      "cell_type": "markdown",
      "source": [
        "### Variable Scope"
      ],
      "metadata": {
        "id": "ZizvxGvN_vBR"
      }
    },
    {
      "cell_type": "markdown",
      "source": [
        "On top of making code easier to reuse, functions and classes also provide another feature/benefit that is especially handy with notebooks: they separate your code into **different scopes**."
      ],
      "metadata": {
        "id": "yLE3-3ieK6B8"
      }
    },
    {
      "cell_type": "markdown",
      "source": [
        "A variable's scope is all the areas in which your code can access that variable. Functions and classes limit the scopes of any variables created within them to help make naming less of a pain and variables easier to manage, especially in larger codebases."
      ],
      "metadata": {
        "id": "fZwk-dOhGuDo"
      }
    },
    {
      "cell_type": "code",
      "source": [
        "x = 5     # global 'x', anything can access this\n",
        "print(x)\n",
        "\n",
        "def local_1():  # new scope, the 'x' and 'y' inside can only be accessed in local_1\n",
        "  x = 10                  # |\n",
        "  y = 'a'                 # |\n",
        "  print('local_1:', x, y) #-- ends here, the local 'x' and 'y' are dropped/disappeared\n",
        "\n",
        "\n",
        "'''\n",
        "When Python tries to figure out which variable you're referring to,\n",
        "it always starts with the most LOCAL scope, then gradually moves outward\n",
        "'''\n",
        "\n",
        "# since there's no 'x' in the local scope here, print() will then\n",
        "# search the global scope for some variable called 'x' and print that\n",
        "\n",
        "def local_2():  # new scope, this 'y' can only be accessed in local_2\n",
        "  y = 'b'                 # |\n",
        "  print('local_2:', x, y) #-- ends here\n",
        "\n",
        "local_1()\n",
        "local_2()\n",
        "print(x)\n",
        "print(y)  # since there's no 'y' in the global scope, this should fail"
      ],
      "metadata": {
        "id": "w9b2zJVrMe9j"
      },
      "execution_count": null,
      "outputs": []
    },
    {
      "cell_type": "markdown",
      "source": [
        "The concept is the same with classes and even functions within classes. Classes effectively create their own \"mini-global\" scope that all functions inside can access, but everything outside the class cannot.\n",
        "\n",
        "Just like `local_1` and `local_2`, functions in the same class cannot access each other's local variables."
      ],
      "metadata": {
        "id": "9Hen0t1TOlUw"
      }
    },
    {
      "cell_type": "markdown",
      "source": [
        "### Code Organization"
      ],
      "metadata": {
        "id": "2rZfnizpie2_"
      }
    },
    {
      "cell_type": "markdown",
      "source": [
        "I know you've been worried about whether you're organizing your code properly and whether \"OOP\" or the like would be useful here. I actually think we've naturally settled on a good-enough solution during DRACULA.\n",
        "\n",
        "Still, the overall philosophies of other paradigms and how they further reduce code duplication is simplified and briefly described here in case they ever come up."
      ],
      "metadata": {
        "id": "RHkHcgNVKocA"
      }
    },
    {
      "cell_type": "markdown",
      "source": [
        "#### Procedural Programming"
      ],
      "metadata": {
        "id": "Q2an9IjQO-Gm"
      }
    },
    {
      "cell_type": "markdown",
      "source": [],
      "metadata": {
        "id": "77yWh-amcVZ-"
      }
    },
    {
      "cell_type": "markdown",
      "source": [
        "#### Object-Oriented Programming"
      ],
      "metadata": {
        "id": "OO4ROqg2d1Fa"
      }
    },
    {
      "cell_type": "markdown",
      "source": [
        "OOP is centered around *polymorphism through inheritance*."
      ],
      "metadata": {
        "id": "M7HBEXpMeAIB"
      }
    },
    {
      "cell_type": "markdown",
      "source": [
        "Classes are (generally) used to describe a category of nouns. However, multiple classes can sometimes share common elements/boilerplate code. OOP minimizes this duplicate code using *inheritance*.\n",
        "\n"
      ],
      "metadata": {
        "id": "pfqVybG8BQcV"
      }
    },
    {
      "cell_type": "code",
      "source": [
        "class Torchic:\n",
        "  def __init__(self, hp, atk):\n",
        "    self.health = hp\n",
        "    self.attack = atk\n",
        "    self.types = [\"fire\"]\n",
        "\n",
        "  def attack(self):\n",
        "    print(f\"Dealt {self.attack} damage!\")\n",
        "\n",
        "class Aron:\n",
        "  def __init__(self, hp, atk):\n",
        "    self.health = hp\n",
        "    self.attack = atk\n",
        "    self.types = [\"steel\", \"rock\"]\n",
        "\n",
        "  def attack(self):\n",
        "    print(f\"Dealt {self.attack} damage!\")\n",
        "\n",
        "class Shroomish:\n",
        "  def __init__(self, hp, atk):\n",
        "    self.health = hp\n",
        "    self.attack = atk\n",
        "    self.types = [\"grass\"]\n",
        "\n",
        "  def attack(self):\n",
        "    print(f\"Dealt {self.attack} damage!\")"
      ],
      "metadata": {
        "id": "yjUgNweP83Iw"
      },
      "execution_count": null,
      "outputs": []
    },
    {
      "cell_type": "markdown",
      "source": [
        "All 1000+ Pokemon have stats and types, but those values are different for each species. Just like how we can separate code into isolated functions, OOP encourages separating shared bits of code into a *base class*. Each different species can then \"inherit\" those properties from that base class and add on their own unique features. These are called *derived classes* as they derive their features from others."
      ],
      "metadata": {
        "id": "2kXaVuhfDZCN"
      }
    },
    {
      "cell_type": "code",
      "source": [
        "# a class describing a general Pokemon\n",
        "class Pokemon:\n",
        "  def __init__(self, hp, atk):\n",
        "    self.hp = hp\n",
        "    self.atk = atk\n",
        "\n",
        "  def attack(self):\n",
        "    print(f\"Dealt {self.atk} damage!\")\n",
        "\n",
        "\n",
        "# simplified Pokemon species classes inheriting from the base \"Pokemon\" class\n",
        "\n",
        "class Torchic(Pokemon):         # classes they inherit from go between the ()\n",
        "  def __init__(self, hp, atk):\n",
        "    super().__init__(hp, atk)   # derived classes can reference parts of their\n",
        "    self.types = [\"fire\"]       # base class using \"super()\"\n",
        "\n",
        "class Aron(Pokemon):\n",
        "  def __init__(self, hp, atk):\n",
        "    super().__init__(hp, atk)\n",
        "    self.types = [\"steel\", \"rock\"]"
      ],
      "metadata": {
        "id": "njYnJEAUD-I3"
      },
      "execution_count": 8,
      "outputs": []
    },
    {
      "cell_type": "markdown",
      "source": [
        "However, not every class will have the *exact* same functionality. For example, Shroomish can heal itself with its attacks. OOP handles this with *polymorphism*.\n",
        "\n",
        "By defining a new function with the same name as one in the base class, the Shroomish class *overrides* the general `attack()` function. While other Pokemon might use the generic default `attack()`, Shroomish can now have a more specialized version for its unique abilities."
      ],
      "metadata": {
        "id": "clNRWHNQGQh1"
      }
    },
    {
      "cell_type": "code",
      "source": [
        "class Shroomish(Pokemon):\n",
        "  def __init__(self, hp, atk):\n",
        "    super().__init__(hp, atk)\n",
        "    self.types = [\"grass\"]\n",
        "\n",
        "  # overrides the general \"attack()\" function in the \"Pokemon\" class\n",
        "  def attack(self):\n",
        "    print(f\"Dealt {self.atk} damage and restored {self.atk / 2} HP!\")\n",
        "\n",
        "\n",
        "# demonstrating polymorphism\n",
        "# although the function calls look EXACTLY the same,\n",
        "# the behavior is different depending on the Pokemon\n",
        "Terry = Torchic(70, 100)\n",
        "print(\"Terry:\")\n",
        "Terry.attack()\n",
        "\n",
        "Mooshi = Shroomish(80, 70)\n",
        "print(\"Mooshi:\")\n",
        "Mooshi.attack()"
      ],
      "metadata": {
        "id": "xMtuHXgIAgqW"
      },
      "execution_count": null,
      "outputs": []
    },
    {
      "cell_type": "markdown",
      "source": [
        "As you can imagine, this is best for larger projects with LOTS of object types to keep track of, especially when they have lots of shared properties and behaviors with few/no exceptions.\n",
        "\n",
        "Based on previous projects, it's unlikely you'll need full-blown OOP. However, if you somehow do need it or want to learn more, I recommend researching:\n",
        "* access modifiers (private/protected/public variables)"
      ],
      "metadata": {
        "id": "gqoKIAeBKnRF"
      }
    },
    {
      "cell_type": "markdown",
      "source": [
        "#### Functional Programming"
      ],
      "metadata": {
        "id": "G-rjyklMFcxi"
      }
    },
    {
      "cell_type": "markdown",
      "source": [
        "FP is based entirely around mathematics-style functions and minimizing/eliminating all forms of \"state\" and side-effects to make programs easier to reason about."
      ],
      "metadata": {
        "id": "i3rVF4VqLr19"
      }
    },
    {
      "cell_type": "markdown",
      "source": [
        "FP is a *declarative* paradigm, so unlike procedural or OO, the code is more focused on \"what\" the program does instead of \"how\" it accomplishes it.\n",
        "\n",
        "Under FP, functions are more than just reusable bits of named code. Ideally, they also:\n",
        "* can be given as arguments to, or returned from, other functions (*first-* or *higher-order*)\n",
        "* have no lasting state, so passing the same arguments **always** leads to the same return value"
      ],
      "metadata": {
        "id": "kWJ5pWuKMiUH"
      }
    },
    {
      "cell_type": "markdown",
      "source": [
        "While purely functional languages and programs exist, most Python code just incorporates functional techniques instead of being \"purely functional\".\n",
        "\n",
        "*note: for reasons I barely understand, user input and printing to the screen are considered side effects, so even this isn't purely functional.*"
      ],
      "metadata": {
        "id": "7iEpKCD1SjfL"
      }
    },
    {
      "cell_type": "code",
      "source": [
        "# this example was taken from the functional programming wikipedia page\n",
        "nums = [1, 2, 3, 4, 5, 6, 7, 8, 9, 10]\n",
        "\n",
        "# imperative style (more like procedural, OO, \"typical\" programming)\n",
        "result = 0\n",
        "for num in nums:\n",
        "  if num % 2 == 0:      # operate only on even numbers\n",
        "    result += num * 10  # multiply \"good\" values by 10 and add them to result\n",
        "\n",
        "print(\"imperative:\", result)\n",
        "\n",
        "# functional style, notice the code's higher-level focus and how\n",
        "# it enables an easier understanding of the program's goal\n",
        "filtered = filter(lambda x: x % 2 == 0, nums) # filter out non-even numbers\n",
        "mapped = map(lambda x: x * 10, filtered)      # multiply what's left by 10\n",
        "result = sum(mapped)                          # add those elements together\n",
        "\n",
        "print(\"functional:\", result)"
      ],
      "metadata": {
        "id": "QXEYjZiKOrAr"
      },
      "execution_count": null,
      "outputs": []
    },
    {
      "cell_type": "code",
      "source": [
        "# you've already encountered some FP-inspired techniques!\n",
        "# comprehensions borrow this declarative style for more compact list creation\n",
        "rand = [4, 7, 1, 9, 3, 5, 2, 0, 8, 6, 1, 8, 2, 8, 3, 8, 4, 6, 2, 6]\n",
        "\n",
        "under3_indexes = [\n",
        "  i                         # output (sorta like map())\n",
        "  for i in range(len(rand)) # setup, condition, update (normal \"for\" loop stuff)\n",
        "  if rand[i] < 3            # filter()\n",
        "]\n",
        "print(under3_indexes)"
      ],
      "metadata": {
        "id": "zClmP_1oSezE"
      },
      "execution_count": null,
      "outputs": []
    },
    {
      "cell_type": "markdown",
      "source": [
        "If you want to learn more about functional programming and Python's functional features, look into:\n",
        "* lambdas (short nameless/anonymous functions)\n",
        "* recursion (how FP mimics loops)\n",
        "* Python's [full list of built-in functions](https://www.w3schools.com/python/python_ref_functions.asp)\n",
        "  * it includes more stuff like `map()`, `filter()`, `sum()`, etc\n",
        "* currying\n",
        "* monads (these are infamously hard to grasp)\n",
        "* Haskell (a well-known FP language)"
      ],
      "metadata": {
        "id": "d7qeMyxqS6rh"
      }
    }
  ],
  "metadata": {
    "language_info": {
      "name": "python"
    },
    "colab": {
      "provenance": []
    },
    "kernelspec": {
      "name": "python3",
      "display_name": "Python 3"
    }
  },
  "nbformat": 4,
  "nbformat_minor": 0
}