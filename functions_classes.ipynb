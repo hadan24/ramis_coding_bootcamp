{
  "cells": [
    {
      "cell_type": "markdown",
      "source": [
        "## Contents"
      ],
      "metadata": {
        "id": "KDF1SvJisefZ"
      }
    },
    {
      "cell_type": "markdown",
      "metadata": {
        "id": "YQmREy3s2T3L"
      },
      "source": [
        "* [Functions](#functions)\n",
        "* Code Abstractions (Functions and Classes)\n",
        "\t* Ways to Structure Code\n",
        "\t* Documenting Code\n",
        "* Variable Scope"
      ]
    },
    {
      "cell_type": "markdown",
      "source": [
        "### Functions"
      ],
      "metadata": {
        "id": "0vGInxfWspAF"
      }
    },
    {
      "cell_type": "markdown",
      "source": [
        "Groups code together under a given name for easy reuse on demand."
      ],
      "metadata": {
        "id": "D9_h6mBd7RiH"
      }
    },
    {
      "cell_type": "markdown",
      "source": [
        "ALL functions have 4 main parts to consider or outline:\n",
        "1. the body\n",
        "  * the code inside the function that dictate what it actually does\n",
        "  * this can include inner functions, loops, etc\n",
        "2. the parameters/arguments list\n",
        "  * what value(s) *could* change each time you call/use the function\n",
        "  * can use parameters just like they're normal variables\n",
        "3. the return values/types\n",
        "  * what value(s) the function gives back to the the caller (if any)\n",
        "4. the name/identifier\n",
        "  * how you'll call the function"
      ],
      "metadata": {
        "id": "ecuETDti78pS"
      }
    },
    {
      "cell_type": "code",
      "execution_count": null,
      "metadata": {
        "id": "3CbHRyq52T3e"
      },
      "outputs": [],
      "source": [
        "def talk(msg, num): # name & arguments all on 1 line\n",
        "  print(msg)        # body\n",
        "  return num ** 2   # return statement with \"msg\" as the return value\n",
        "\n",
        "ret = talk(\"peepeepoopoo\", 5)\n",
        "print(f\"ret: {ret}\")"
      ]
    },
    {
      "cell_type": "markdown",
      "source": [
        "Every function needs an explicit name, but everything else is optional\n",
        "  * a function without arguments just does the exact same thing every time\n",
        "  * a function without return values just doesn't give anything back (often just changing some state)\n",
        "  * a function without a body is almost always useless"
      ],
      "metadata": {
        "id": "k7tA9UENC5NB"
      }
    },
    {
      "cell_type": "code",
      "source": [
        "def no_args():      # No arguments (but has all other parts)\n",
        "  print(\"no args\")  # Will always print the same message\n",
        "  return 2 * 2      # and return the same value\n",
        "\n",
        "counter = 0\n",
        "def increase_counter(num):  # No return statement (but has all other parts)\n",
        "  counter += num            # Don't get anything back from the function,\n",
        "  print(counter)            # but change the state of the program\n",
        "\n",
        "\n",
        "def do_nothing(): # No body (but has all other parts)\n",
        "  return          # returns immediately so it effectively does nothing\n",
        "\n",
        "def do_nothing2():  # \"pass\" can be used in functions, classes, loops,\n",
        "  pass              # and if/else statements to explicitly do nothing\n",
        "\n",
        "def add(a, b):  # Technically no body since everything's in the return\n",
        "  return a + b  # Rare that functions will be *this* simple"
      ],
      "metadata": {
        "id": "3FX7qIknB084"
      },
      "execution_count": null,
      "outputs": []
    },
    {
      "cell_type": "markdown",
      "source": [
        "The function's **signature** consists of its:\n",
        "* name,\n",
        "* parameter list,\n",
        "* and return types.\n",
        "\n",
        "Ideally, it's the bare minimum information you need to be able to use a function properly (you often need more in reality)."
      ],
      "metadata": {
        "id": "DJQXPu6XUE-7"
      }
    },
    {
      "cell_type": "markdown",
      "source": [
        "#### Parameter Lists"
      ],
      "metadata": {
        "id": "GhFlaTD-Xwg5"
      }
    },
    {
      "cell_type": "markdown",
      "source": [
        "As the name suggests, they describe everything you need to know about all the function's parameters. This includes each parameter's:\n",
        "* name,\n",
        "* type (optional),\n",
        "* and default value (optional)"
      ],
      "metadata": {
        "id": "PeuwiIEheche"
      }
    },
    {
      "cell_type": "code",
      "source": [
        "def greet(name: str = \"Jane\"):  # name is \"name\", type is \"str\"\n",
        "  print(f\"Hi, I'm {name}.\")     # defaults to \"Jane\"\n",
        "\n",
        "greet()         # argument is optional since there's a default value\n",
        "greet(\"Alice\")  # but that default will be overridden if an argument is given"
      ],
      "metadata": {
        "id": "CXVknEaRXwD6"
      },
      "execution_count": null,
      "outputs": []
    },
    {
      "cell_type": "code",
      "source": [
        "def greet2(name: str):      # no default value, so this parameter is\n",
        "  print(f\"Hi, I'm {name}.\") # REQUIRED for the function to run\n",
        "\n",
        "greet2(\"Alice\")\n",
        "greet2()  # This should return an error"
      ],
      "metadata": {
        "id": "YDON4MZT7Qqo"
      },
      "execution_count": null,
      "outputs": []
    },
    {
      "cell_type": "markdown",
      "source": [
        "A parameter's type can be inferred from other given information like its default value(s)."
      ],
      "metadata": {
        "id": "2AhgljsS8QQj"
      }
    },
    {
      "cell_type": "code",
      "source": [
        "def greet3(name = \"John\"):  # no explicit type, but if you hover over the\n",
        "  print(f\"Hi, I'm {name}.\") # function's name, you will see the type \"str\"\n",
        "\n",
        "greet3()\n",
        "greet3(\"Bob\")"
      ],
      "metadata": {
        "id": "TWFFKrTU76jI"
      },
      "execution_count": null,
      "outputs": []
    },
    {
      "cell_type": "markdown",
      "source": [
        "#### Advanced Parameter Stuff"
      ],
      "metadata": {
        "id": "uZE_eFujCgQp"
      }
    },
    {
      "cell_type": "markdown",
      "source": [
        "For functions like `matplotlib's` [plotting functions](https://matplotlib.org/stable/api/_as_gen/matplotlib.axes.Axes.plot.html), you might notice that they can take a lot more arguments than the documentation explicitly says (`color`, `linewidth`, etc). This is thanks to `*args` and `**kwargs`.\n",
        "\n",
        "It's unlikely that you'll use this often in data processing scripts, but it's helpful to know. More info can be found in this [StackOverflow thread](https://stackoverflow.com/questions/36901/what-does-double-star-asterisk-and-star-asterisk-do-for-parameters)."
      ],
      "metadata": {
        "id": "N20k8Z2DAFyl"
      }
    },
    {
      "cell_type": "code",
      "source": [
        "def weeee(*args):   # \"*args\" allows you to include an arbitrary\n",
        "  for arg in args:  # number of positional arguments in a function\n",
        "    print(f\"{arg}\") # accessible as a tuple\n",
        "\n",
        "weeee(\"eee\", 4, (2,3))"
      ],
      "metadata": {
        "id": "SH9bePZuAFkS"
      },
      "execution_count": null,
      "outputs": []
    },
    {
      "cell_type": "code",
      "source": [
        "def woooo(**kwargs):              # \"**kwargs\" allows you to include an arbitrary\n",
        "  for key, val in kwargs.items(): # number of KEYWORD arguments in a function\n",
        "    print(f\"{key}: {val}\")        # accessible as a dictionary\n",
        "\n",
        "woooo(a=1, b=\"two\", c=(3, 4))"
      ],
      "metadata": {
        "id": "WFYuyowFCM2x"
      },
      "execution_count": null,
      "outputs": []
    },
    {
      "cell_type": "markdown",
      "source": [
        "Parameter types can be more complex using tuples and `|`, but it's rare that you'll ever need to use these in data processing scripts. An easy/common example is below, but more complex and powerful typing tools are available in Python's [typing library](https://docs.python.org/3/library/typing.html)."
      ],
      "metadata": {
        "id": "OgPyVDMx9CtF"
      }
    },
    {
      "cell_type": "code",
      "source": [
        "def show_stat(stat = None): # this type is inferred to be \"Any | None\"\n",
        "  print(f\"stat: {stat}\")\n",
        "\n",
        "# \"Any\" is Python's default type, \"could be literally anything\"\n",
        "# there's both a \"None\" value and a \"None\" type\n",
        "show_stat()\n",
        "show_stat(1)\n",
        "\n",
        "import numpy as np\n",
        "def show_bundle(bundle: np.ndarray | tuple):  # parameter types can also\n",
        "  print(f\"bundle: {bundle}\")  # be other data structures (tuples, lists, etc)\n",
        "\n",
        "show_bundle((1, 2, 3))"
      ],
      "metadata": {
        "id": "RBEyMyaG72gH"
      },
      "execution_count": null,
      "outputs": []
    }
  ],
  "metadata": {
    "language_info": {
      "name": "python"
    },
    "colab": {
      "provenance": []
    },
    "kernelspec": {
      "name": "python3",
      "display_name": "Python 3"
    }
  },
  "nbformat": 4,
  "nbformat_minor": 0
}