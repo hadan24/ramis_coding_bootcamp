{
  "cells": [
    {
      "cell_type": "markdown",
      "source": [
        "## Contents"
      ],
      "metadata": {
        "id": "KDF1SvJisefZ"
      }
    },
    {
      "cell_type": "markdown",
      "metadata": {
        "id": "YQmREy3s2T3L"
      },
      "source": [
        "* [Functions](#functions)\n",
        "* Code Abstractions (Functions and Classes)\n",
        "\t* Ways to Structure Code\n",
        "\t* Documenting Code\n",
        "* Variable Scope"
      ]
    },
    {
      "cell_type": "markdown",
      "source": [
        "### Functions"
      ],
      "metadata": {
        "id": "0vGInxfWspAF"
      }
    },
    {
      "cell_type": "markdown",
      "source": [
        "Groups code together under a given name for easy reuse on demand."
      ],
      "metadata": {
        "id": "D9_h6mBd7RiH"
      }
    },
    {
      "cell_type": "markdown",
      "source": [
        "ALL functions have 4 main parts to consider or outline:\n",
        "1. the body\n",
        "  * the code inside the function that dictate what it actually does\n",
        "  * this can include inner functions, loops, etc\n",
        "2. the parameters/arguments list\n",
        "  * what value(s) *could* change each time you call/use the function\n",
        "  * can use parameters just like they're normal variables\n",
        "3. the return values/types\n",
        "  * what value(s) the function gives back to the the caller (if any)\n",
        "4. the name/identifier\n",
        "  * how you'll call the function"
      ],
      "metadata": {
        "id": "ecuETDti78pS"
      }
    },
    {
      "cell_type": "code",
      "execution_count": null,
      "metadata": {
        "id": "3CbHRyq52T3e"
      },
      "outputs": [],
      "source": [
        "def talk(msg, num): # name & arguments all on 1 line\n",
        "  print(msg)        # body\n",
        "  return num ** 2   # return statement with \"msg\" as the return value\n",
        "\n",
        "ret = talk(\"peepeepoopoo\", 5)\n",
        "print(f\"ret: {ret}\")"
      ]
    },
    {
      "cell_type": "markdown",
      "source": [
        "Every function needs an explicit name, but everything else is optional\n",
        "  * a function without arguments just does the exact same thing every time\n",
        "  * a function without return values just doesn't give anything back (often just changing some state)\n",
        "  * a function without a body is almost always useless"
      ],
      "metadata": {
        "id": "k7tA9UENC5NB"
      }
    },
    {
      "cell_type": "code",
      "source": [
        "def no_args():      # No arguments (but has all other parts)\n",
        "  print(\"no args\")  # Will always print the same message\n",
        "  return 2 * 2      # and return the same value\n",
        "\n",
        "counter = 0\n",
        "def increase_counter(num):  # No return statement (but has all other parts)\n",
        "  counter += num            # Don't get anything back from the function,\n",
        "  print(counter)            # but change the state of the program\n",
        "\n",
        "\n",
        "def do_nothing(): # No body (but has all other parts)\n",
        "  return\n",
        "\n",
        "def pos_quadratic_formula(a, b, c):               # Technically no body since\n",
        "  return (-b + (b**2 - 4*a*c) ** 0.5) / (2 * a)   # everything's in the return"
      ],
      "metadata": {
        "id": "3FX7qIknB084"
      },
      "execution_count": null,
      "outputs": []
    },
    {
      "cell_type": "markdown",
      "source": [
        "The function's **signature** consists of its:\n",
        "* name,\n",
        "* parameter list,\n",
        "* and return types.\n",
        "\n",
        "Ideally, it's the bare minimum information you need to be able to use a function properly (you often need more in reality)."
      ],
      "metadata": {
        "id": "DJQXPu6XUE-7"
      }
    },
    {
      "cell_type": "markdown",
      "source": [
        "#### Parameter Lists"
      ],
      "metadata": {
        "id": "GhFlaTD-Xwg5"
      }
    },
    {
      "cell_type": "code",
      "source": [],
      "metadata": {
        "id": "CXVknEaRXwD6"
      },
      "execution_count": null,
      "outputs": []
    }
  ],
  "metadata": {
    "language_info": {
      "name": "python"
    },
    "colab": {
      "provenance": []
    },
    "kernelspec": {
      "name": "python3",
      "display_name": "Python 3"
    }
  },
  "nbformat": 4,
  "nbformat_minor": 0
}