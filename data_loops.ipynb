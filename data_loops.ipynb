{
  "cells": [
    {
      "cell_type": "markdown",
      "metadata": {
        "id": "WIvi644kkV6b"
      },
      "source": [
        "## Contents"
      ]
    },
    {
      "cell_type": "markdown",
      "metadata": {
        "id": "emaAQWTakd08"
      },
      "source": [
        "* Data Structures\n",
        "\t* Tuples\n",
        "\t* Dictionaries\n",
        "\t* Lists\n",
        "        * Slicing\n",
        "\t* NumPy arrays\n",
        "* Loops\n",
        "    * `while` Loops\n",
        "    * `for` Loops\n",
        "    * Writing Tips\n",
        "    * Debugging Tips\n",
        "    * List Comprehensions"
      ]
    },
    {
      "cell_type": "markdown",
      "metadata": {
        "id": "uD5ft0kbcFGg"
      },
      "source": [
        "## Data Structures"
      ]
    },
    {
      "cell_type": "markdown",
      "metadata": {
        "id": "9yLv0VKAr33X"
      },
      "source": [
        "Different ways to store data or group related data together."
      ]
    },
    {
      "cell_type": "markdown",
      "metadata": {
        "id": "vy-qS4FpcNNy"
      },
      "source": [
        "### Tuples"
      ]
    },
    {
      "cell_type": "code",
      "execution_count": null,
      "metadata": {
        "id": "6fzhSf_r19iI"
      },
      "outputs": [],
      "source": [
        "some_book = (\"The Watcher\", 582, 4.5)\n",
        "\n",
        "# Defined using ()\n",
        "# Elements/items can have different types\n",
        "# Items can be duplicates of each other\n",
        "# Elements can be accessed by index because their order matters\n",
        "print(some_book[0])\n",
        "print(some_book[1])\n",
        "print(some_book[2])"
      ]
    },
    {
      "cell_type": "code",
      "execution_count": null,
      "metadata": {
        "id": "kH3jhA0S3OE1"
      },
      "outputs": [],
      "source": [
        "# Tuples themselves CANNOT be altered in any way\n",
        "\n",
        "# These should cause errors (Python will always stop at the first)\n",
        "some_book[0] = \"Watchmen\"   # Cannot reassign items to tuples\n",
        "some_book[3] = \"new item\"   # Cannot add new items to or delete items from tuples"
      ]
    },
    {
      "cell_type": "markdown",
      "metadata": {
        "id": "j88YOK9c6foJ"
      },
      "source": [
        "Ideal for:\n",
        "* Unchanging data &mdash; tuples themselves can't ever change\n",
        "* Small groups of related data that's *only* used in nearby code\n",
        "* Packaging 2 values together in places where only 1 is typically expected **(more on this later)**\n",
        "  * i.e. returning multiple values at once from functions\n",
        "  * i.e. dictionary keys based on multiple related values at once\n",
        "\n",
        "Drawbacks:\n",
        "* Accessing items *only* by index easily gets confusing\n",
        "  * Especially if there are lots of items\n",
        "  * Especially if the tuple was defined far from where it's used\n",
        "  * Not very self-documenting, the coder must remember what each item means by themselves"
      ]
    },
    {
      "cell_type": "markdown",
      "metadata": {
        "id": "lSYLBax3KDfx"
      },
      "source": [
        "### Dictionaries"
      ]
    },
    {
      "cell_type": "markdown",
      "metadata": {
        "id": "VPb4RIJ8Fzlf"
      },
      "source": [
        "Strap in because these things are powerful but the needed baseline knowledge is a doozy."
      ]
    },
    {
      "cell_type": "code",
      "execution_count": null,
      "metadata": {
        "id": "mhKvkk6I7wkf"
      },
      "outputs": [],
      "source": [
        "some_book = {\n",
        "  \"title\": \"The Watcher\",\n",
        "  \"pages\": 582,\n",
        "  \"rating\": 4.5,\n",
        "  42: 42,\n",
        "  69.0: 69,\n",
        "  (): \"my key is a tuple\"\n",
        "}\n",
        "\n",
        "# Defined using {}\n",
        "# Contains \"key-value pairs\"\n",
        "# Can be defined entirely on 1 line like the tuple above, but spreading across multiple lines helps with readability\n",
        "\n",
        "# Keys are how you access values INSTEAD of indexes\n",
        "# Keys MUST be unique\n",
        "# Keys can be strings, numbers, or tuples /containing/ strings and numbers\n",
        "\n",
        "# Values are,,, the values/items\n",
        "# Values can be literally anything you want, and can be duplicates of existing values\n",
        "# Even other entire tuples, lists, dictionaries, files, class objects, etc"
      ]
    },
    {
      "cell_type": "code",
      "execution_count": null,
      "metadata": {
        "id": "xpXbSgbtGABV"
      },
      "outputs": [],
      "source": [
        "# Access items with [] like usual, but use the desired key instead of an index\n",
        "\n",
        "print(some_book['title'])\n",
        "print(some_book[42.0])  # Type conversions are automatically done as necessary, typical Python\n",
        "print(some_book[()])"
      ]
    },
    {
      "cell_type": "code",
      "execution_count": null,
      "metadata": {
        "id": "irqQmMU0-EpG"
      },
      "outputs": [],
      "source": [
        "# New items can be added just by using a new key\n",
        "print('before', some_book, '\\n')\n",
        "\n",
        "some_book['new_key'] = 'I didnt exist before'\n",
        "\n",
        "print('after', some_book)"
      ]
    },
    {
      "cell_type": "code",
      "execution_count": null,
      "metadata": {
        "id": "rxXZl_df-5KS"
      },
      "outputs": [],
      "source": [
        "# Existing items can be changed\n",
        "# The expression for accessing a value can also be used like a variable name to change the same value\n",
        "print('before:', some_book[42])\n",
        "\n",
        "some_book[42] = 420\n",
        "\n",
        "print('after:', some_book[42])"
      ]
    },
    {
      "cell_type": "markdown",
      "metadata": {
        "id": "tJNkhmwiAkUh"
      },
      "source": [
        "Dictionaries have lots of methods (associated functions) that perform more useful and complex operations. A list of them can be found [here](https://www.w3schools.com/python/python_dictionaries_methods.asp).\n",
        "\n",
        "Weirdly enough, I couldn't find a clean list like this in [Python's official documentation](https://docs.python.org)"
      ]
    },
    {
      "cell_type": "markdown",
      "metadata": {
        "id": "9oE7ey1eBSww"
      },
      "source": [
        "Benefits:\n",
        "* Easily represent things whose list of properties will grow and shrink a lot\n",
        "  * Easy to add and remove key-value pairs\n",
        "  * This is probably how the classes we've made so far should be done. Much easier than constantly creating new ```this.X``` values inside class functions.\n",
        "* Can still loop through all the key-value pairs like tuple/list elements **(more on this later)**\n",
        "\n",
        "Drawbacks:\n",
        "* Basically none in most cases. There are jokes about how, if you don't know the answer to a technical interview question, just throw a dictionary/hash map/map at it and you'll get a good enough answer lmao"
      ]
    },
    {
      "cell_type": "markdown",
      "metadata": {
        "id": "F-LStD2yKG3Z"
      },
      "source": [
        "### Lists"
      ]
    },
    {
      "cell_type": "code",
      "execution_count": null,
      "metadata": {
        "id": "_jNdsbdszJTm"
      },
      "outputs": [],
      "source": [
        "titles = [\"The Lightning Thief\", \"The Sea of Monsters\", \"The Titan's Curse\"]\n",
        "random_list = [\"The Watcher\", 420, ()]\n",
        "\n",
        "# Defined using []\n",
        "# Elements/items can have different types\n",
        "# Items can be duplicates of each other\n",
        "# Basically a tuple whose elements you can change"
      ]
    },
    {
      "cell_type": "code",
      "execution_count": null,
      "metadata": {
        "id": "xCaRbGx8LyMU"
      },
      "outputs": [],
      "source": [
        "# Access items using an index\n",
        "print(titles[1])\n",
        "\n",
        "# Change items in a similar way to dictionaries\n",
        "titles[1] = \"The Son of Neptune\"\n",
        "print(titles[1])"
      ]
    },
    {
      "cell_type": "markdown",
      "metadata": {
        "id": "sPGl5BKin5UL"
      },
      "source": [
        "You may have noticed that I left something pretty important out of the dictionary and list sections so far. What if you need to delete elements from dictionaries or lists?\n",
        "\n",
        "I don't think removing things from lists/dictionaries is something you will be doing often, at least not until you find yourself *desperately* needing to optimize your scripts."
      ]
    },
    {
      "cell_type": "markdown",
      "metadata": {
        "id": "7cdVdzNgwC16"
      },
      "source": [
        "You can always clone a data structure and edit that new copy. It will require more memory, but this way you'll always have access to old versions of that structure. It can be helpful if you need to retrace your steps while writing or if you just want to see data both before and after some change.\n",
        "\n",
        "Changing data structures, especially in the middle of loops that use/reference them, can also easily cause bugs. Algorithms/loops you create may not work as expected because the data you're working on changes in the middle of execution.\n",
        "\n",
        "We've run into this before on your projects, but here's another (contrived) example for reference:"
      ]
    },
    {
      "cell_type": "code",
      "execution_count": null,
      "metadata": {
        "id": "fcB_qi177c_s"
      },
      "outputs": [],
      "source": [
        "alphabet = ['a', 'b', 'c', 'd', 'e', 'f', 'g', 'h', 'i', 'j', 'k', 'l', 'm', 'n', 'o', 'p', 'q', 'r', 's', 't', 'u', 'v', 'w', 'x', 'y', 'z']\n",
        "\n",
        "# You might initially expect this loop to print the entire alphabet, but...\n",
        "for letter in alphabet:\n",
        "  if letter == 'k':\n",
        "    alphabet.remove(letter) # changing the list as we go through it...\n",
        "\n",
        "  print(letter) # may give unexpected results."
      ]
    },
    {
      "cell_type": "markdown",
      "metadata": {
        "id": "ANILoXfz8-fl"
      },
      "source": [
        "#### Slicing"
      ]
    },
    {
      "cell_type": "markdown",
      "metadata": {
        "id": "DOkBPpkO--ns"
      },
      "source": [
        "You can easily isolate subsections of strings or lists using **slice notation**. This involves multiple numbers/expressions between the `[]` separated by colons."
      ]
    },
    {
      "cell_type": "code",
      "execution_count": null,
      "metadata": {
        "id": "747amRXY-TiR"
      },
      "outputs": [],
      "source": [
        "alphabet = ['a', 'b', 'c', 'd', 'e', 'f', 'g', 'h', 'i', 'j', 'k', 'l', 'm', 'n', 'o', 'p', 'q', 'r', 's', 't', 'u', 'v', 'w', 'x', 'y', 'z']\n",
        "\n",
        "# [ start : end : step ]\n",
        "# \"end\" is EXCLUSIVE\n",
        "print(alphabet[0:3:1])\n",
        "print(alphabet[0:len(alphabet):2])\n",
        "print(alphabet[-3:len(alphabet):1])\n",
        "print(alphabet[11:16:1])"
      ]
    },
    {
      "cell_type": "markdown",
      "metadata": {
        "id": "K46WwyFB_tbc"
      },
      "source": [
        "Slice notation has lots of nice shortcuts and defaults that can make it really easy to use."
      ]
    },
    {
      "cell_type": "code",
      "execution_count": null,
      "metadata": {
        "id": "sEEWJawDAldL"
      },
      "outputs": [],
      "source": [
        "# These all print the same value\n",
        "# 0 is the default \"start\"\n",
        "# 1 is the default \"step\"\n",
        "print(alphabet[0:3:1])\n",
        "print(alphabet[:3:1])\n",
        "print(alphabet[:3:])\n",
        "print(alphabet[:3])"
      ]
    },
    {
      "cell_type": "code",
      "execution_count": null,
      "metadata": {
        "id": "-ruOUuBjEGXC"
      },
      "outputs": [],
      "source": [
        "# These all also print the same value\n",
        "# len(str) or len(list) is the default \"end\"\n",
        "print(alphabet[11:len(alphabet):1])\n",
        "print(alphabet[11:len(alphabet):])\n",
        "print(alphabet[11::])  # leaving the \"step\" at the default\n",
        "\n",
        "# These all also also print the same value\n",
        "print(alphabet[0:len(alphabet):2])\n",
        "print(alphabet[0::2])\n",
        "print(alphabet[::2])"
      ]
    },
    {
      "cell_type": "code",
      "execution_count": null,
      "metadata": {
        "id": "NkT8GRetJcnX"
      },
      "outputs": [],
      "source": [
        "# Negative \"start\" and \"stop\" numbers indicate counting from the end\n",
        "\n",
        "print(alphabet[-3:len(alphabet):1]) # sublist consisting of elements spanning:\n",
        "print(alphabet[-3:])                # \"3rd from the end\" to \"the end of the list\"\n",
        "\n",
        "print(alphabet[-3:-1])  # \"3rd from the end\" up to \"final element\" (exclusive)\n",
        "print(alphabet[-4:-2])  # \"4th from the end\" to \"2nd from the end\"\n",
        "\n",
        "print(alphabet[:-21])  # everything BUT the last 21 items"
      ]
    },
    {
      "cell_type": "code",
      "execution_count": null,
      "metadata": {
        "id": "VGs4b4T-SHKk"
      },
      "outputs": [],
      "source": [
        "# Negative \"step\" numbers indicate reversing the order\n",
        "# If you use these, \"start\" and \"stop\" should also be in the opposite order\n",
        "print(alphabet[::-1])\n",
        "print(alphabet[len(alphabet):0:-1]) # There's no way to use negative steps to\n",
        "                                    # reverse an ENTIRE list, only part of it\n",
        "print(alphabet[3:0:-1])"
      ]
    },
    {
      "cell_type": "markdown",
      "metadata": {
        "id": "qsNF_M3rKKE0"
      },
      "source": [
        "### NumPy Arrays"
      ]
    },
    {
      "cell_type": "code",
      "execution_count": null,
      "metadata": {
        "id": "uK4IcQkiS9Pg"
      },
      "outputs": [],
      "source": [
        "import numpy as np\n",
        "print(np.array([1,2,3]))\n",
        "print(np.array([\n",
        "  [1,2],\n",
        "  [3,4]\n",
        "]))\n",
        "\n",
        "# Basically Python lists but with some extra restrictions that allow them to be MUCH more efficient\n",
        "# All items MUST be the same type (NumPy will automatically convert as needed)"
      ]
    },
    {
      "cell_type": "markdown",
      "metadata": {
        "id": "dvx9zjobTWfR"
      },
      "source": [
        "Benefits:\n",
        "* MUCH faster and more space-efficient inherently\n",
        "  * This may not be noticeable until you get to massive million-cell arrays or larger, but the bonuses are always there\n",
        "* Lots of free NumPy functions for faster calculations\n",
        "* Accurate to what arrays are like in basically all other languages\n",
        "\n",
        "Drawbacks:\n",
        "* Less flexible\n",
        "  * ALL items must be the same type\n",
        "  * Fixed size defined at creation, cannot add/remove items\n",
        "    * But you can create large, empty arrays and loop to populate them\n",
        "  * For a list of lists, all sublists MUST be the same size"
      ]
    },
    {
      "cell_type": "markdown",
      "metadata": {
        "id": "0xgEm6C8VfP3"
      },
      "source": [
        "## Loops"
      ]
    },
    {
      "cell_type": "markdown",
      "metadata": {
        "id": "i2otIdd47xsf"
      },
      "source": [
        "Allows easy repetition of specific blocks/chunks of code."
      ]
    },
    {
      "cell_type": "markdown",
      "metadata": {
        "id": "SNnF6xHkkGxL"
      },
      "source": [
        "ALL loops have 4 parts to outline or consider:\n",
        "1. the setup\n",
        "  * creating empty lists, initializing counter variables, etc\n",
        "2. the condition\n",
        "  * what must be **TRUE** to keep the loop going (i.e. this condition will be *false* when the loop finishes)\n",
        "3. the body\n",
        "  * the code that will be executed inside the loop\n",
        "  * this can include more loops (nesting)\n",
        "4. the state update\n",
        "  * how the code moves on to the next step/item/iteration/etc\n",
        "\n"
      ]
    },
    {
      "cell_type": "markdown",
      "metadata": {
        "id": "EKzi7yQ0K8cU"
      },
      "source": [
        "### `while` Loops"
      ]
    },
    {
      "cell_type": "code",
      "execution_count": null,
      "metadata": {
        "id": "D24tGiqQJ_tJ"
      },
      "outputs": [],
      "source": [
        "# Best when you don't know exactly how many iterations you want\n",
        "# or when the loop condition isn't based on a numberic value\n",
        "rand_letters = ['a', 'j', 'x', 'w', 'p', 'q', 'i', 'o', 'b', 'v']\n",
        "\n",
        "i = 0                         # setup\n",
        "while rand_letters[i] != 'q': # condition\n",
        "  print(rand_letters[i])      # body\n",
        "  i += 1                      # update"
      ]
    },
    {
      "cell_type": "markdown",
      "metadata": {
        "id": "SXY7VYq0MA4y"
      },
      "source": [
        "Ideal in *any* of these cases:\n",
        "* There's no (easy) expression to calculate or figure out how many iterations you need to do\n",
        "* The loop condition is not based on a simple incrementing/decrementing value\n",
        "  * i.e. when the looping variable is set to *specific* numbers like in a [binary search](https://www.geeksforgeeks.org/binary-search/) or is based on whether some variable is `True`/`False`\n",
        "\n",
        "Other benefits:\n",
        "* More flexible than `for` loops (more on that next section)\n",
        "* More explicit loop parts\n",
        "\n",
        "Drawbacks:\n",
        "* Manual setup and updating\n",
        "  * Since you explicitly write out each part of the loop, you must know all the details of what you want it to do"
      ]
    },
    {
      "cell_type": "markdown",
      "metadata": {
        "id": "bdMo2idZLE1T"
      },
      "source": [
        "### 'for' Loops"
      ]
    },
    {
      "cell_type": "markdown",
      "metadata": {
        "id": "zgszVNtuQCqt"
      },
      "source": [
        "One particular loop use case is *so* common that a special type of loop was created to handle them. `for` loops make looping through iterables much easier. All the above data structures are iterable (though dictionaries, with their keys being of any type are a little more difficult).\n",
        "\n",
        "There are LOTS of variations, but they're all meant to assist in different sub-cases of that core problem of going through all elements in a collection one by one."
      ]
    },
    {
      "cell_type": "code",
      "execution_count": null,
      "metadata": {
        "id": "EZOpiVpRiipZ"
      },
      "outputs": [],
      "source": [
        "rand_letters = ['a', 'j', 'x', 'w', 'p']\n",
        "\n",
        "# Simplest and most common version of Python's \"for\" loop\n",
        "# Each \"letter\" is an alias for the item itself from the \"rand_letters\" iterable\n",
        "\n",
        "for letter in rand_letters: # setup, condition, update all in 1 line\n",
        "  print(letter)             # body"
      ]
    },
    {
      "cell_type": "code",
      "execution_count": null,
      "metadata": {
        "id": "G6_GrxITOcNO"
      },
      "outputs": [],
      "source": [
        "rand_letters = ['a', 'j', 'x', 'w', 'p']\n",
        "\n",
        "# range() returns an iterable which lets you easily loop through most series of numbers\n",
        "\n",
        "# range's arguments are just like that of slices: \"start\", \"stop\" (exclusive), \"step\"\n",
        "print(range(5), \"->\", list(range(5)))\n",
        "print(range(1, 5), \"->\", list(range(1, 5)))\n",
        "print(range(2, 10, 2), \"->\", list(range(2, 10, 2)))\n",
        "\n",
        "# With \"len()\", it lets you easily get the indices of any tuple/list/array/etc\n",
        "# This is closer to how it's done in other languages,\n",
        "# but not very common in Python due to better options.\n",
        "\n",
        "for i in range(len(rand_letters)):  # setup, condition, update all in 1 line\n",
        "  print(rand_letters[i])            # body"
      ]
    },
    {
      "cell_type": "code",
      "execution_count": null,
      "metadata": {
        "id": "Z4l-LU4PilxJ"
      },
      "outputs": [],
      "source": [
        "rand_letters  = ('a', 'j', 'x', 'w', 'p')\n",
        "\n",
        "# enumerate() returns an iterable which lets you easily\n",
        "# access both the items and their indices of another iterable\n",
        "print(enumerate(rand_letters))\n",
        "print(list(enumerate(rand_letters)))\n",
        "\n",
        "# Indices and items are given in a tuple, which you can\n",
        "# deconstruct like this to easily access both elements\n",
        "for i, letter in enumerate(rand_letters): # setup, condition, update all in 1 line\n",
        "  print(f\"{i}: {letter}\")                 # body"
      ]
    },
    {
      "cell_type": "markdown",
      "metadata": {
        "id": "vpsdssfZSK8k"
      },
      "source": [
        "This is the more Python-y way to use the indices of an iterable.\n",
        "You rarely need to loop through a list *without* accessing its items, and `enumerate()` gives easy access to both."
      ]
    },
    {
      "cell_type": "code",
      "execution_count": null,
      "metadata": {
        "id": "GI0jdO-xjFKT"
      },
      "outputs": [],
      "source": [
        "rand_letters  = ['a', 'j', 'x', 'w', 'p']\n",
        "rand_caps     = ['I', 'O', 'B', 'V', 'Z']\n",
        "\n",
        "# zip() returns an iterable which lets you easily loop\n",
        "# through multiple other iterables at the same time\n",
        "print(zip(rand_letters, rand_caps))\n",
        "print(list(zip(rand_letters, rand_caps)))\n",
        "\n",
        "# Items are given in a tuple, which you can\n",
        "# deconstruct like this to easily access both elements\n",
        "for letter, cap in zip(rand_letters, rand_caps):  # setup, condition, update all in 1 line\n",
        "  print(letter, cap)                              # body"
      ]
    },
    {
      "cell_type": "markdown",
      "metadata": {
        "id": "zGW97QKTTclC"
      },
      "source": [
        "The argument order matters for `zip()`. Tuple elements will appear in the same order as the order their original lists appeared in."
      ]
    },
    {
      "cell_type": "markdown",
      "metadata": {
        "id": "qCdj0pS_Tpbk"
      },
      "source": [
        "### Tips for Writing Loops"
      ]
    },
    {
      "cell_type": "markdown",
      "metadata": {
        "id": "uV0XijBritPP"
      },
      "source": [
        "* (again) If you're looping through a data structure, avoid changing its contents in the middle of the loop\n",
        "  * Can cause unexpected behaviors and mess up your intended algorithms\n",
        "  * Safer and more consistent (but more memory-intensive) to create copies\n",
        "\n",
        "* If the loop is too big to fit on one screen, that's probably a good sign to simplify it\n",
        "  * Break its body into smaller functions (more on these later)\n",
        "  * Break it into smaller loops with clearer jobs\n",
        "  * Up to personal preference/judgment though (but it is **much** easier to understand and debug shorter loops)\n",
        "\n",
        "* Nested loops are most commonly used when:\n",
        "  * Comparing each item in a data structure with everything else in that structure\n",
        "  * Looping through matrices (2-or-higher dimensional arrays/lists)"
      ]
    },
    {
      "cell_type": "markdown",
      "metadata": {
        "id": "gg8LZGTa7PSI"
      },
      "source": [
        "### Tips for Debugging Loops"
      ]
    },
    {
      "cell_type": "markdown",
      "metadata": {
        "id": "P6wIknlK7Ib1"
      },
      "source": [
        "* Most loop issues stem from:\n",
        "  * incorrect loop structure (setup, condition, update)\n",
        "  * confusion about which variables are a single item vs. a collection of items\n",
        "    * and by extension which one you need to work with for this loop"
      ]
    },
    {
      "cell_type": "markdown",
      "metadata": {
        "id": "jSlkg2Rs0tH9"
      },
      "source": [
        "* For most debugging, just double-checking the \"setup\", \"condition\", and data structure accesses should be enough.\n",
        "  * Printing values can be helpful here, and debuggers are a more automated/advanced version of this.\n",
        "  \n",
        "* When intensively debugging, imagine yourself as the computer going through the steps (with simple sample data if needed)\n",
        "  * Start at element 1\n",
        "  * Write down all your variables, and manually track how they change\n",
        "    * Debuggers will help with this (more on them later)\n",
        "  * Think as literally as possible"
      ]
    },
    {
      "cell_type": "markdown",
      "metadata": {
        "id": "KYjObVnSu7gZ"
      },
      "source": [
        "#### List Comprehensions"
      ]
    },
    {
      "cell_type": "markdown",
      "metadata": {
        "id": "iv9OGUvf0xB9"
      },
      "source": [
        "These build `lists` using a technique from functional programming. Comprehensions can be thought of as list-building loops but all on 1 line."
      ]
    },
    {
      "cell_type": "markdown",
      "metadata": {
        "id": "m_yz7ivH2XTO"
      },
      "source": [
        "Just like `for` loops, the \"setup\", \"condition\", and \"update\" are handled in the same `for`-`in` syntax. However, the body is split into 2 new sections:\n",
        "1. the output\n",
        "  * the item to be appended to the new list\n",
        "2. the filter\n",
        "  * the `if` statement/condition deciding which items in the old list"
      ]
    },
    {
      "cell_type": "code",
      "execution_count": null,
      "metadata": {
        "id": "UB4mcvLn1a_F"
      },
      "outputs": [],
      "source": [
        "rand = [4, 7, 1, 9, 3, 5, 2, 0, 8, 6, 1, 8, 2, 8, 3, 8, 4, 6, 2, 6]\n",
        "\n",
        "under3_indexes = [\n",
        "  i                         # output\n",
        "  for i in range(len(rand)) # setup, condition, update (normal \"for\" loop stuff)\n",
        "  if rand[i] < 3            # filter\n",
        "]\n",
        "print(under3_indexes)"
      ]
    },
    {
      "cell_type": "markdown",
      "metadata": {
        "id": "zCGRbi_z67Zp"
      },
      "source": [
        "Complex comprehensions can be split across multiple lines for readability."
      ]
    },
    {
      "cell_type": "code",
      "execution_count": null,
      "metadata": {
        "id": "nUQgVFsh4VsO"
      },
      "outputs": [],
      "source": [
        "rand = [4, 7, 1, 9, 3, 5, 2, 0, 8, 6, 1, 8, 2, 8, 3, 8, 4, 6, 2, 6]\n",
        "\n",
        "# the output can include entire expressions\n",
        "under3_squared = [num**2 for num in rand if num < 3]\n",
        "print(under3_squared)\n",
        "\n",
        "# or even an \"if\" statement if the output depends on some condition\n",
        "peepoo = [\n",
        "  \"pee\" if num < 5 else \"poo\" # modifying output with \"if\" statement\n",
        "  for num in rand\n",
        "]\n",
        "print(peepoo)"
      ]
    },
    {
      "cell_type": "markdown",
      "metadata": {
        "id": "3fVXZZCE8Jfy"
      },
      "source": [
        "Due to their similarities, the process for list comprehensions and (`for`) loops is very similar. If you're struggling on how to write a comprehension, you can write it as a loop first, then translate it. However, this also means that comprehensions are totally optional."
      ]
    },
    {
      "cell_type": "code",
      "execution_count": null,
      "metadata": {
        "id": "-dtpGgu65WxZ"
      },
      "outputs": [],
      "source": [
        "rand = [4, 7, 1, 9, 3, 5, 2, 0, 8, 6, 1, 8, 2, 8, 3, 8, 4, 6, 2, 6]\n",
        "\n",
        "under3_squared_loop = []\n",
        "for num in rand:\n",
        "  if num < 3:\n",
        "    under3_squared_loop.append(num**2)\n",
        "print(under3_squared_loop)\n",
        "\n",
        "under3_squared_comp = [num**2 for num in rand if num < 3]\n",
        "print(under3_squared_comp)"
      ]
    }
  ],
  "metadata": {
    "colab": {
      "collapsed_sections": [
        "uD5ft0kbcFGg"
      ],
      "provenance": []
    },
    "kernelspec": {
      "display_name": "Python 3",
      "name": "python3"
    },
    "language_info": {
      "name": "python"
    }
  },
  "nbformat": 4,
  "nbformat_minor": 0
}
