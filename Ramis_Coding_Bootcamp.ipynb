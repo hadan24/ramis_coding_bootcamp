{
  "cells": [
    {
      "cell_type": "markdown",
      "metadata": {
        "id": "WIvi644kkV6b"
      },
      "source": [
        "## Introduction"
      ]
    },
    {
      "cell_type": "markdown",
      "metadata": {
        "id": "emaAQWTakd08"
      },
      "source": [
        "A lil tutorial/overview/review of some basic computer science techniques and topics to help you with making and organizing scripts!\n",
        "\n",
        "Topics in order include (to be updated as the notebook evolves):\n",
        "\n",
        "* Data Structures (tuples vs. lists vs. dictionaries vs. NumPy arrays)\n",
        "* Loops\n",
        "\t* With Arrays/Lists\n",
        "\t* Guidelines for Good Loops (goal -> code, how & when nested)\n",
        "* Code Abstractions (Functions and Classes)\n",
        "\t* Ways to Structure Code\n",
        "\t* Documenting Code\n",
        "* Variable Scope\n",
        "\n",
        "* Git and Github\n",
        "* Reading Documentation and Learning Libraries\n",
        "* Python Environment Setup\n",
        "* Parallelism Basics\n"
      ]
    },
    {
      "cell_type": "markdown",
      "metadata": {
        "id": "uD5ft0kbcFGg"
      },
      "source": [
        "## Data Structures"
      ]
    },
    {
      "cell_type": "markdown",
      "metadata": {
        "id": "9yLv0VKAr33X"
      },
      "source": [
        "Different ways to store data or group related data together."
      ]
    },
    {
      "cell_type": "markdown",
      "metadata": {
        "id": "vy-qS4FpcNNy"
      },
      "source": [
        "### Tuples"
      ]
    },
    {
      "cell_type": "code",
      "execution_count": null,
      "metadata": {
        "id": "6fzhSf_r19iI"
      },
      "outputs": [
        {
          "ename": "",
          "evalue": "",
          "output_type": "error",
          "traceback": [
            "\u001b[1;31mRunning cells with 'Python 3.11.3' requires the ipykernel package.\n",
            "\u001b[1;31mRun the following command to install 'ipykernel' into the Python environment. \n",
            "\u001b[1;31mCommand: 'c:/Users/danh2/AppData/Local/Programs/Python/Python311/python.exe -m pip install ipykernel -U --user --force-reinstall'"
          ]
        }
      ],
      "source": [
        "some_book = (\"The Watcher\", 582, 4.5)   # Defined using ()\n",
        "\n",
        "# Elements/items can have different types\n",
        "# Elements can be accessed by index because the order they're in matters\n",
        "# Items can be duplicates of each other\n",
        "print(some_book[0])\n",
        "print(some_book[1])\n",
        "print(some_book[2])"
      ]
    },
    {
      "cell_type": "code",
      "execution_count": null,
      "metadata": {
        "id": "kH3jhA0S3OE1"
      },
      "outputs": [],
      "source": [
        "# Tuples themselves CANNOT be altered in any way\n",
        "\n",
        "# These should cause errors (Python will always stop at the first)\n",
        "some_book[0] = \"Watchmen\"   # Cannot reassign items to tuples\n",
        "some_book[3] = \"new item\"   # Cannot add new items to or delete items from tuples"
      ]
    },
    {
      "cell_type": "markdown",
      "metadata": {
        "id": "j88YOK9c6foJ"
      },
      "source": [
        "Ideal for:\n",
        "* Unchanging data &mdash; tuples themselves can't ever change\n",
        "* Small groups of related data that's *only* used in nearby code\n",
        "* Packaging 2 values together in places where only 1 is typically expected **(more on this later)**\n",
        "  * i.e. returning multiple values at once from functions\n",
        "  * i.e. dictionary keys based on multiple related values at once\n",
        "\n",
        "Drawbacks:\n",
        "* Accessing items *only* by index easily gets confusing\n",
        "  * Especially if there are lots of items\n",
        "  * Especially if the tuple was defined far from where it's used\n",
        "  * Not very self-documenting, the coder must remember the structure themselves"
      ]
    },
    {
      "cell_type": "markdown",
      "metadata": {
        "id": "lSYLBax3KDfx"
      },
      "source": [
        "### Dictionaries"
      ]
    },
    {
      "cell_type": "markdown",
      "metadata": {
        "id": "VPb4RIJ8Fzlf"
      },
      "source": [
        "Strap in because these things are powerful but the needed baseline knowledge is a doozy."
      ]
    },
    {
      "cell_type": "code",
      "execution_count": null,
      "metadata": {
        "id": "mhKvkk6I7wkf"
      },
      "outputs": [],
      "source": [
        "some_book = {\n",
        "  \"title\": \"The Watcher\",\n",
        "  \"pages\": 582,\n",
        "  \"rating\": 4.5,\n",
        "  42: 42,\n",
        "  69.0: 69,\n",
        "  (): \"my key is a tuple\"\n",
        "}\n",
        "\n",
        "# Defined using {}\n",
        "# Contains \"key-value pairs\"\n",
        "# Can be defined entirely on 1 line like the tuple above, but spreading across multiple lines helps big dictionaries with readability\n",
        "\n",
        "# Keys are how you access values INSTEAD of indexes\n",
        "# Keys MUST be unique\n",
        "# Keys can be strings, numbers, or tuples /containing/ strings and numbers\n",
        "\n",
        "# Values are,,, the values/items\n",
        "# Values can be literally anything you want, and can be duplicates\n",
        "# Even other entire tuples, lists, dictionaries, files, class objects, wHATEVER"
      ]
    },
    {
      "cell_type": "code",
      "execution_count": null,
      "metadata": {
        "id": "xpXbSgbtGABV"
      },
      "outputs": [],
      "source": []
    },
    {
      "cell_type": "markdown",
      "metadata": {
        "id": "F-LStD2yKG3Z"
      },
      "source": [
        "### Lists"
      ]
    },
    {
      "cell_type": "markdown",
      "metadata": {
        "id": "qsNF_M3rKKE0"
      },
      "source": [
        "### NumPy Arrays"
      ]
    },
    {
      "cell_type": "markdown",
      "metadata": {
        "id": "zMYTS8aIy--_"
      },
      "source": [
        "## Git and Github"
      ]
    },
    {
      "cell_type": "code",
      "execution_count": null,
      "metadata": {
        "id": "3nTN70a-KOuh"
      },
      "outputs": [],
      "source": []
    }
  ],
  "metadata": {
    "colab": {
      "provenance": []
    },
    "kernelspec": {
      "display_name": "Python 3",
      "name": "python3"
    },
    "language_info": {
      "name": "python",
      "version": "3.11.3"
    }
  },
  "nbformat": 4,
  "nbformat_minor": 0
}
