{
  "nbformat": 4,
  "nbformat_minor": 0,
  "metadata": {
    "colab": {
      "provenance": []
    },
    "kernelspec": {
      "name": "python3",
      "display_name": "Python 3"
    },
    "language_info": {
      "name": "python"
    }
  },
  "cells": [
    {
      "cell_type": "markdown",
      "source": [
        "## Introduction"
      ],
      "metadata": {
        "id": "WIvi644kkV6b"
      }
    },
    {
      "cell_type": "markdown",
      "source": [
        "A lil tutorial/overview/review of some basic computer science techniques and topics to help you with making and organizing scripts!\n",
        "\n",
        "Topics in order include (to be updated as the notebook evolves):\n",
        "\n",
        "* Data Structures (tuples vs. lists vs. dictionaries vs. NumPy arrays)\n",
        "* Loops\n",
        "\t* With Arrays/Lists\n",
        "\t* Guidelines for Good Loops (goal -> code, how & when nested)\n",
        "* Code Abstractions (Functions and Classes)\n",
        "\t* Ways to Structure Code\n",
        "\t* Documenting Code\n",
        "* Variable Scope\n",
        "\n",
        "* Git and Github\n",
        "* Reading Documentation and Learning Libraries\n",
        "* Python Environment Setup\n",
        "* Parallelism Basics\n"
      ],
      "metadata": {
        "id": "emaAQWTakd08"
      }
    },
    {
      "cell_type": "markdown",
      "source": [
        "## Data Structures"
      ],
      "metadata": {
        "id": "uD5ft0kbcFGg"
      }
    },
    {
      "cell_type": "markdown",
      "source": [
        "Different ways to store data or group related data together."
      ],
      "metadata": {
        "id": "9yLv0VKAr33X"
      }
    },
    {
      "cell_type": "markdown",
      "source": [
        "### Tuples"
      ],
      "metadata": {
        "id": "vy-qS4FpcNNy"
      }
    },
    {
      "cell_type": "code",
      "source": [
        "some_book = (\"The Watcher\", 582, 4.5)\n",
        "\n",
        "# Defined using ()\n",
        "# Elements/items can have different types\n",
        "# Items can be duplicates of each other\n",
        "# Elements can be accessed by index because their order matters\n",
        "print(some_book[0])\n",
        "print(some_book[1])\n",
        "print(some_book[2])"
      ],
      "metadata": {
        "id": "6fzhSf_r19iI"
      },
      "execution_count": null,
      "outputs": []
    },
    {
      "cell_type": "code",
      "source": [
        "# Tuples themselves CANNOT be altered in any way\n",
        "\n",
        "# These should cause errors (Python will always stop at the first)\n",
        "some_book[0] = \"Watchmen\"   # Cannot reassign items to tuples\n",
        "some_book[3] = \"new item\"   # Cannot add new items to or delete items from tuples"
      ],
      "metadata": {
        "id": "kH3jhA0S3OE1"
      },
      "execution_count": null,
      "outputs": []
    },
    {
      "cell_type": "markdown",
      "source": [
        "Ideal for:\n",
        "* Unchanging data &mdash; tuples themselves can't ever change\n",
        "* Small groups of related data that's *only* used in nearby code\n",
        "* Packaging 2 values together in places where only 1 is typically expected **(more on this later)**\n",
        "  * i.e. returning multiple values at once from functions\n",
        "  * i.e. dictionary keys based on multiple related values at once\n",
        "\n",
        "Drawbacks:\n",
        "* Accessing items *only* by index easily gets confusing\n",
        "  * Especially if there are lots of items\n",
        "  * Especially if the tuple was defined far from where it's used\n",
        "  * Not very self-documenting, the coder must remember what each item means by themselves"
      ],
      "metadata": {
        "id": "j88YOK9c6foJ"
      }
    },
    {
      "cell_type": "markdown",
      "source": [
        "### Dictionaries"
      ],
      "metadata": {
        "id": "lSYLBax3KDfx"
      }
    },
    {
      "cell_type": "markdown",
      "source": [
        "Strap in because these things are powerful but the needed baseline knowledge is a doozy."
      ],
      "metadata": {
        "id": "VPb4RIJ8Fzlf"
      }
    },
    {
      "cell_type": "code",
      "source": [
        "some_book = {\n",
        "  \"title\": \"The Watcher\",\n",
        "  \"pages\": 582,\n",
        "  \"rating\": 4.5,\n",
        "  42: 42,\n",
        "  69.0: 69,\n",
        "  (): \"my key is a tuple\"\n",
        "}\n",
        "\n",
        "# Defined using {}\n",
        "# Contains \"key-value pairs\"\n",
        "# Can be defined entirely on 1 line like the tuple above, but spreading across multiple lines helps with readability\n",
        "\n",
        "# Keys are how you access values INSTEAD of indexes\n",
        "# Keys MUST be unique\n",
        "# Keys can be strings, numbers, or tuples /containing/ strings and numbers\n",
        "\n",
        "# Values are,,, the values/items\n",
        "# Values can be literally anything you want, and can be duplicates of existing values\n",
        "# Even other entire tuples, lists, dictionaries, files, class objects, etc"
      ],
      "metadata": {
        "id": "mhKvkk6I7wkf"
      },
      "execution_count": null,
      "outputs": []
    },
    {
      "cell_type": "code",
      "source": [
        "# Access items with [] like usual, but use the desired key instead of an index\n",
        "\n",
        "print(some_book['title'])\n",
        "print(some_book[42.0])  # Type conversions are automatically done as necessary, typical Python\n",
        "print(some_book[()])"
      ],
      "metadata": {
        "id": "xpXbSgbtGABV"
      },
      "execution_count": null,
      "outputs": []
    },
    {
      "cell_type": "code",
      "source": [
        "# New items can be added just by using a new key\n",
        "print('before', some_book, '\\n')\n",
        "\n",
        "some_book['new_key'] = 'I didnt exist before'\n",
        "\n",
        "print('after', some_book)"
      ],
      "metadata": {
        "id": "irqQmMU0-EpG"
      },
      "execution_count": null,
      "outputs": []
    },
    {
      "cell_type": "code",
      "source": [
        "# Existing items can be changed\n",
        "# The expression for accessing a value can also be used like a variable name to change the same value\n",
        "print('before:', some_book[42])\n",
        "\n",
        "some_book[42] = 420\n",
        "\n",
        "print('after:', some_book[42])"
      ],
      "metadata": {
        "id": "rxXZl_df-5KS"
      },
      "execution_count": null,
      "outputs": []
    },
    {
      "cell_type": "markdown",
      "source": [
        "Dictionaries have lots of methods (associated functions) that perform more useful and complex operations. A list of them can be found [here](https://www.w3schools.com/python/python_dictionaries_methods.asp).\n",
        "\n",
        "Weirdly enough, I couldn't find a clean list like this in [Python's official documentation](https://docs.python.org)"
      ],
      "metadata": {
        "id": "tJNkhmwiAkUh"
      }
    },
    {
      "cell_type": "markdown",
      "source": [
        "Benefits:\n",
        "* Easily represent things whose list of properties will grow and shrink a lot\n",
        "  * Easy to add and remove key-value pairs\n",
        "  * This is probably how the classes we've made so far should be done. Much easier than constantly creating new ```this.X``` values inside class functions.\n",
        "* Can still loop through all the key-value pairs like tuple/list elements **(more on this later)**\n",
        "\n",
        "Drawbacks:\n",
        "* Basically none in most cases. There are jokes about how, if you don't know the answer to a technical interview question, just throw a dictionary/hash map/map at it and you'll get a good enough answer lmao"
      ],
      "metadata": {
        "id": "9oE7ey1eBSww"
      }
    },
    {
      "cell_type": "markdown",
      "source": [
        "### Lists"
      ],
      "metadata": {
        "id": "F-LStD2yKG3Z"
      }
    },
    {
      "cell_type": "code",
      "source": [
        "titles = [\"The Lightning Thief\", \"The Sea of Monsters\", \"The Titan's Curse\"]\n",
        "random_list = [\"The Watcher\", 420, ()]\n",
        "\n",
        "# Defined using []\n",
        "# Elements/items can have different types\n",
        "# Items can be duplicates of each other\n",
        "# Basically a tuple whose elements you can change"
      ],
      "metadata": {
        "id": "_jNdsbdszJTm"
      },
      "execution_count": null,
      "outputs": []
    },
    {
      "cell_type": "code",
      "source": [
        "# Access items using an index\n",
        "print(titles[1])\n",
        "\n",
        "# Change items in a similar way to dictionaries\n",
        "titles[1] = \"The Son of Neptune\"\n",
        "print(titles[1])"
      ],
      "metadata": {
        "id": "xCaRbGx8LyMU"
      },
      "execution_count": null,
      "outputs": []
    },
    {
      "cell_type": "markdown",
      "source": [
        "You may have noticed that I left something pretty important out of the dictionary and list sections so far. What if you need to delete elements from dictionaries or lists?\n",
        "\n",
        "I don't think removing things from lists/dictionaries is something you will be doing often, at least not until you find yourself *desperately* needing to optimize your scripts."
      ],
      "metadata": {
        "id": "sPGl5BKin5UL"
      }
    },
    {
      "cell_type": "markdown",
      "source": [
        "You can always clone a data structure and edit that new copy. It will require more memory, but this way you'll always have access to old versions of that structure. It can be helpful if you need to retrace your steps while writing or if you just want to see data both before and after some change.\n",
        "\n",
        "Changing data structures, especially in the middle of loops that use/reference them, can also easily cause bugs. Algorithms/loops you create may not work as expected because the data you're working on changes in the middle of execution.\n",
        "\n",
        "We've run into this before on your projects, but here's another (contrived) example for reference:"
      ],
      "metadata": {
        "id": "7cdVdzNgwC16"
      }
    },
    {
      "cell_type": "code",
      "source": [
        "alphabet = ['a', 'b', 'c', 'd', 'e', 'f', 'g', 'h', 'i', 'j', 'k', 'l', 'm', 'n', 'o', 'p', 'q', 'r', 's', 't', 'u', 'v', 'w', 'x', 'y', 'z']\n",
        "\n",
        "# You might initially expect this loop to print the entire alphabet, but...\n",
        "for letter in alphabet:\n",
        "  if letter == 'k':\n",
        "    alphabet.remove(letter) # changing the list as we go through it...\n",
        "\n",
        "  print(letter) # may give unexpected results."
      ],
      "metadata": {
        "id": "fcB_qi177c_s"
      },
      "execution_count": null,
      "outputs": []
    },
    {
      "cell_type": "markdown",
      "source": [
        "#### Slicing"
      ],
      "metadata": {
        "id": "ANILoXfz8-fl"
      }
    },
    {
      "cell_type": "markdown",
      "source": [
        "You can easily isolate subsections of strings or lists using **slice notation**. This involves multiple numbers/expressions between the `[]` separated by colons."
      ],
      "metadata": {
        "id": "DOkBPpkO--ns"
      }
    },
    {
      "cell_type": "code",
      "source": [
        "alphabet = ['a', 'b', 'c', 'd', 'e', 'f', 'g', 'h', 'i', 'j', 'k', 'l', 'm', 'n', 'o', 'p', 'q', 'r', 's', 't', 'u', 'v', 'w', 'x', 'y', 'z']\n",
        "\n",
        "# [ start : end : step ]\n",
        "# \"end\" is EXCLUSIVE\n",
        "print(alphabet[0:3:1])\n",
        "print(alphabet[0:len(alphabet):2])\n",
        "print(alphabet[-3:len(alphabet):1])\n",
        "print(alphabet[11:16:1])"
      ],
      "metadata": {
        "id": "747amRXY-TiR"
      },
      "execution_count": null,
      "outputs": []
    },
    {
      "cell_type": "markdown",
      "source": [
        "Slice notation has lots of nice shortcuts and defaults that can make it really easy to use."
      ],
      "metadata": {
        "id": "K46WwyFB_tbc"
      }
    },
    {
      "cell_type": "code",
      "source": [
        "# These all print the same value\n",
        "# 0 is the default \"start\"\n",
        "# 1 is the default \"step\"\n",
        "print(alphabet[0:3:1])\n",
        "print(alphabet[:3:1])\n",
        "print(alphabet[:3:])\n",
        "print(alphabet[:3])"
      ],
      "metadata": {
        "id": "sEEWJawDAldL"
      },
      "execution_count": null,
      "outputs": []
    },
    {
      "cell_type": "code",
      "source": [
        "# These all also print the same value\n",
        "# len(str) or len(list) is the default \"end\"\n",
        "print(alphabet[11:len(alphabet):1])\n",
        "print(alphabet[11:len(alphabet):])\n",
        "print(alphabet[11::])  # leaving the \"step\" at the default\n",
        "\n",
        "# These all also also print the same value\n",
        "print(alphabet[0:len(alphabet):2])\n",
        "print(alphabet[0::2])\n",
        "print(alphabet[::2])"
      ],
      "metadata": {
        "id": "-ruOUuBjEGXC"
      },
      "execution_count": null,
      "outputs": []
    },
    {
      "cell_type": "code",
      "source": [
        "# Negative \"start\" and \"stop\" numbers indicate counting from the end\n",
        "\n",
        "print(alphabet[-3:len(alphabet):1]) # sublist consisting of elements spanning:\n",
        "print(alphabet[-3:])                # \"3rd from the end\" to \"the end of the list\"\n",
        "\n",
        "print(alphabet[-3:-1])  # \"3rd from the end\" up to \"final element\" (exclusive)\n",
        "print(alphabet[-4:-2])  # \"4th from the end\" to \"2nd from the end\"\n",
        "\n",
        "print(alphabet[:-21])  # everything BUT the last 21 items"
      ],
      "metadata": {
        "colab": {
          "base_uri": "https://localhost:8080/"
        },
        "id": "NkT8GRetJcnX",
        "outputId": "c1605231-08ec-468c-835e-aad108f37af6"
      },
      "execution_count": 32,
      "outputs": [
        {
          "output_type": "stream",
          "name": "stdout",
          "text": [
            "['x', 'y', 'z']\n",
            "['x', 'y', 'z']\n",
            "['x', 'y']\n",
            "['w', 'x']\n",
            "['a', 'b', 'c', 'd', 'e']\n",
            "['z', 'y', 'x', 'w', 'v', 'u', 't', 's', 'r', 'q', 'p', 'o', 'n', 'm', 'l', 'k', 'j', 'i', 'h', 'g', 'f', 'e', 'd', 'c', 'b', 'a']\n",
            "['k', 'j', 'i', 'h', 'g', 'f', 'e', 'd', 'c', 'b', 'a']\n"
          ]
        }
      ]
    },
    {
      "cell_type": "code",
      "source": [
        "# Negative \"step\" numbers indicate reversing the order\n",
        "# If you use these, \"start\" and \"stop\" should also be in the opposite order\n",
        "print(alphabet[::-1])\n",
        "print(alphabet[len(alphabet):0:-1]) # There's no way to use negative steps to\n",
        "                                    # reverse an ENTIRE list, only part of it\n",
        "print(alphabet[3:0:-1])"
      ],
      "metadata": {
        "colab": {
          "base_uri": "https://localhost:8080/"
        },
        "id": "VGs4b4T-SHKk",
        "outputId": "0053e3b4-c402-4bd1-a162-3ad03dfaf75c"
      },
      "execution_count": 39,
      "outputs": [
        {
          "output_type": "stream",
          "name": "stdout",
          "text": [
            "['z', 'y', 'x', 'w', 'v', 'u', 't', 's', 'r', 'q', 'p', 'o', 'n', 'm', 'l', 'k', 'j', 'i', 'h', 'g', 'f', 'e', 'd', 'c', 'b', 'a']\n",
            "['z', 'y', 'x', 'w', 'v', 'u', 't', 's', 'r', 'q', 'p', 'o', 'n', 'm', 'l', 'k', 'j', 'i', 'h', 'g', 'f', 'e', 'd', 'c', 'b']\n",
            "['d', 'c', 'b']\n"
          ]
        }
      ]
    },
    {
      "cell_type": "markdown",
      "source": [
        "### NumPy Arrays"
      ],
      "metadata": {
        "id": "qsNF_M3rKKE0"
      }
    },
    {
      "cell_type": "code",
      "source": [
        "import numpy as np\n",
        "print(np.array([1,2,3]))\n",
        "print(np.array([\n",
        "  [1,2],\n",
        "  [3,4]\n",
        "]))\n",
        "\n",
        "# Basically Python lists but with some extra restrictions that allow them to be MUCH more efficient\n",
        "# All items MUST be the same type (NumPy will automatically convert as needed)"
      ],
      "metadata": {
        "id": "uK4IcQkiS9Pg"
      },
      "execution_count": null,
      "outputs": []
    },
    {
      "cell_type": "markdown",
      "source": [
        "Benefits:\n",
        "* MUCH faster and more space-efficient inherently\n",
        "  * This may not be noticeable until you get to massive million-cell arrays or larger, but the bonuses are always there\n",
        "* Lots of free NumPy functions for faster calculations\n",
        "* Accurate to what arrays are like in basically all other languages\n",
        "\n",
        "Drawbacks:\n",
        "* Less flexible\n",
        "  * ALL items must be the same type\n",
        "  * Fixed size defined at creation, cannot add/remove items\n",
        "    * But you can create large, empty arrays and loop to populate them\n",
        "  * For a list of lists, all sublists MUST be the same size"
      ],
      "metadata": {
        "id": "dvx9zjobTWfR"
      }
    },
    {
      "cell_type": "markdown",
      "source": [
        "## Loops"
      ],
      "metadata": {
        "id": "0xgEm6C8VfP3"
      }
    },
    {
      "cell_type": "markdown",
      "source": [
        "ALL loops have 4 parts to outline or consider:\n",
        "1. the setup\n",
        "  * creating empty lists, initializing counter variables, etc\n",
        "2. the condition\n",
        "  * what must be TRUE to keep the loop going (i.e. this condition will be false when the loop finishes)\n",
        "3. the body\n",
        "  * the code that will be executed inside the loop\n",
        "  * this can include more nested loops\n",
        "4. the (state) update\n",
        "  * how the code moves on to the next step/item/iteration/etc\n",
        "\n"
      ],
      "metadata": {
        "id": "SNnF6xHkkGxL"
      }
    },
    {
      "cell_type": "code",
      "source": [
        "# Some examples using Python's 2 types of loops: \"while\" and \"for\"\n",
        "mini_alphabet = ['a', 'b', 'c', 'd', 'e']\n",
        "\n",
        "i = 0\n",
        "while i < len(mini_alphabet):\n",
        "  print(mini_alphabet[i])\n",
        "  i += 1\n",
        "print('-----')  # separator for clearer output\n",
        "\n",
        "for i in range(len(mini_alphabet)):\n",
        "  print(mini_alphabet[i])\n",
        "print('-----')  # separator for clearer output\n",
        "\n",
        "for letter in mini_alphabet:\n",
        "  print(letter)\n",
        "print('-----')  # separator for nicer output\n",
        "\n",
        "for index, letter in enumerate(mini_alphabet):\n",
        "  print(f\"{index}: {letter}\")"
      ],
      "metadata": {
        "colab": {
          "base_uri": "https://localhost:8080/"
        },
        "id": "CNKBPY2G6Vtb",
        "outputId": "5dc018b1-0f79-4839-dd79-6b8ac8361d7d"
      },
      "execution_count": 44,
      "outputs": [
        {
          "output_type": "stream",
          "name": "stdout",
          "text": [
            "a\n",
            "b\n",
            "c\n",
            "d\n",
            "e\n",
            "-----\n",
            "a\n",
            "b\n",
            "c\n",
            "d\n",
            "e\n",
            "-----\n",
            "a\n",
            "b\n",
            "c\n",
            "d\n",
            "e\n",
            "-----\n",
            "0: a\n",
            "1: b\n",
            "2: c\n",
            "3: d\n",
            "4: e\n"
          ]
        }
      ]
    },
    {
      "cell_type": "markdown",
      "source": [
        "- range() details\n",
        "- enumerate\n",
        "- zip"
      ],
      "metadata": {
        "id": "r15UqLpdYIrT"
      }
    },
    {
      "cell_type": "markdown",
      "source": [
        "- if loop is too large (can't fit on 1 screen), good sign to simplify\n",
        "  - break body into functions (more on this later)\n",
        "  - create multiple smaller loops\n",
        "- again, if looping through list/dictionary, avoid changing the data structure in the middle of the loop (adding/removing/changing items)\n",
        "  - can cause unexpected behaviors\n",
        "  - safer & more consistent to create & edit copy\n",
        "\n",
        "- imagine self as computer going through steps\n",
        "  - start at element 1, what do you need to do to/with it?\n",
        "  - next element, what to do here?\n",
        "  - next element, any patterns? patterns go inside the loop"
      ],
      "metadata": {
        "id": "Q9I_r1VZaPVj"
      }
    },
    {
      "cell_type": "markdown",
      "source": [
        "## Git and Github"
      ],
      "metadata": {
        "id": "zMYTS8aIy--_"
      }
    },
    {
      "cell_type": "code",
      "source": [],
      "metadata": {
        "id": "3nTN70a-KOuh"
      },
      "execution_count": null,
      "outputs": []
    },
    {
      "cell_type": "markdown",
      "source": [
        "# explain diagrams (UML?) and walk through example on call"
      ],
      "metadata": {
        "id": "1YYc3Bx3FNTK"
      }
    },
    {
      "cell_type": "markdown",
      "source": [
        "* break down steps even further\n",
        "  * get to usual stopping point\n",
        "  * for each step/bullet, ask yourself \"what data are needed to do this? what operations/changes are being done on that data?\"\n",
        "    * note those as sub-bullets or connected bubbles or something\n",
        "    * for the data, note its structure (in other words, what does it consist of?)\n",
        "      * for example, an object in some simulation might consist of variables for mass, momentum, velocity, acceleration, etc\n",
        "  * do you notice any repetition or patterns?\n",
        "    * patterns in data can be abstracted out into a class interface or some dictionary/list data structure\n",
        "    * patterns in operations can be put inside functions\n",
        "    * if you do notice patterns, write down what the generalized form of the data and functions will be (data properties, function signatures, class interfaces)\n",
        "  * for each of those sub-bullets/bubbles/etc, consider how to represent them or how to do them and what libraries might be involved\n",
        "  * execute according to plan\n",
        "    * BE FLEXIBLE\n",
        "      * you'll think of better ways to do things or encounter problems with your original plan as you go\n",
        "      * let them happen because nobody, not even senior engineers can catch all the issues at the beginning (but with experience you can catch most)\n",
        "      * also this is research, like you said, you don't fully know what you're gonna do or need to do, change is arguably more inevitable than in normal software\n",
        "      * don't worry too much about cleanliness, code beauty, ease of use, etc until the code becomes annoying/slow/a hindrance to work with\n",
        "        * nobody else is gonna see this unless you're making a library or publishing code on github for a new process or something"
      ],
      "metadata": {
        "id": "VZWchKv0HAYi"
      }
    },
    {
      "cell_type": "markdown",
      "source": [
        "* if the steps above look like too much (understandable), remember that we're being intentionally excessive in breaking things down\n",
        "  * ensures that we have as few questions as possible before starting, makes room for all the questions and debugging that might pop up\n",
        "* bugs often come from faulty algos or wrong assumptions\n",
        "  * thus debugging is, at a high level, mostly figuring out what special case we left out or what misunderstanding we have of some section of code\n",
        "  * at a lower level, this can include going through code step by step (manually or with a debugging tool, more on this below) and printing values throughout the code\n",
        "* don't worry too much about memorizing syntax\n",
        "  * that's the stuff that's easy to look up in documentation, geeksforgeeks, tutorials, etc\n",
        "* ideally, if you have time, study the solution you found after copy-pasting their code\n",
        "  * see what they did differently and why it works when yours didn't"
      ],
      "metadata": {
        "id": "iKUEbG-3RUE3"
      }
    },
    {
      "cell_type": "markdown",
      "source": [
        "https://medium.com/codex/how-to-debug-jupyter-notebooks-in-visual-studio-code-3d36039c6f86\n",
        "\n",
        "https://code.visualstudio.com/docs/datascience/jupyter-notebooks#_debug-a-jupyter-notebook"
      ],
      "metadata": {
        "id": "6vNjoqqH5haY"
      }
    }
  ]
}