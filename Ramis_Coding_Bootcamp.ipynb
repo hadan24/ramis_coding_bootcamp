{
  "nbformat": 4,
  "nbformat_minor": 0,
  "metadata": {
    "colab": {
      "provenance": []
    },
    "kernelspec": {
      "name": "python3",
      "display_name": "Python 3"
    },
    "language_info": {
      "name": "python"
    }
  },
  "cells": [
    {
      "cell_type": "markdown",
      "source": [
        "## Introduction"
      ],
      "metadata": {
        "id": "WIvi644kkV6b"
      }
    },
    {
      "cell_type": "markdown",
      "source": [
        "A lil tutorial/overview/review of some basic computer science techniques and topics to help you with making and organizing scripts!\n",
        "\n",
        "Topics in order include (to be updated as the notebook evolves):\n",
        "\n",
        "* Data Structures (tuples vs. lists vs. dictionaries vs. NumPy arrays)\n",
        "* Loops\n",
        "\t* With Arrays/Lists\n",
        "\t* Guidelines for Good Loops (goal -> code, how & when nested)\n",
        "* Code Abstractions (Functions and Classes)\n",
        "\t* Ways to Structure Code\n",
        "\t* Documenting Code\n",
        "* Variable Scope\n",
        "\n",
        "* Git and Github\n",
        "* Reading Documentation and Learning Libraries\n",
        "* Python Environment Setup\n",
        "* Parallelism Basics\n"
      ],
      "metadata": {
        "id": "emaAQWTakd08"
      }
    },
    {
      "cell_type": "markdown",
      "source": [
        "## Data Structures"
      ],
      "metadata": {
        "id": "uD5ft0kbcFGg"
      }
    },
    {
      "cell_type": "markdown",
      "source": [
        "Different ways to store data or group related data together."
      ],
      "metadata": {
        "id": "9yLv0VKAr33X"
      }
    },
    {
      "cell_type": "markdown",
      "source": [
        "### Tuples"
      ],
      "metadata": {
        "id": "vy-qS4FpcNNy"
      }
    },
    {
      "cell_type": "code",
      "source": [
        "some_book = (\"The Watcher\", 582, 4.5)\n",
        "\n",
        "# Defined using ()\n",
        "# Elements/items can have different types\n",
        "# Items can be duplicates of each other\n",
        "# Elements can be accessed by index because their order matters\n",
        "print(some_book[0])\n",
        "print(some_book[1])\n",
        "print(some_book[2])"
      ],
      "metadata": {
        "id": "6fzhSf_r19iI"
      },
      "execution_count": null,
      "outputs": []
    },
    {
      "cell_type": "code",
      "source": [
        "# Tuples themselves CANNOT be altered in any way\n",
        "\n",
        "# These should cause errors (Python will always stop at the first)\n",
        "some_book[0] = \"Watchmen\"   # Cannot reassign items to tuples\n",
        "some_book[3] = \"new item\"   # Cannot add new items to or delete items from tuples"
      ],
      "metadata": {
        "id": "kH3jhA0S3OE1"
      },
      "execution_count": null,
      "outputs": []
    },
    {
      "cell_type": "markdown",
      "source": [
        "Ideal for:\n",
        "* Unchanging data &mdash; tuples themselves can't ever change\n",
        "* Small groups of related data that's *only* used in nearby code\n",
        "* Packaging 2 values together in places where only 1 is typically expected **(more on this later)**\n",
        "  * i.e. returning multiple values at once from functions\n",
        "  * i.e. dictionary keys based on multiple related values at once\n",
        "\n",
        "Drawbacks:\n",
        "* Accessing items *only* by index easily gets confusing\n",
        "  * Especially if there are lots of items\n",
        "  * Especially if the tuple was defined far from where it's used\n",
        "  * Not very self-documenting, the coder must remember what each item means by themselves"
      ],
      "metadata": {
        "id": "j88YOK9c6foJ"
      }
    },
    {
      "cell_type": "markdown",
      "source": [
        "### Dictionaries"
      ],
      "metadata": {
        "id": "lSYLBax3KDfx"
      }
    },
    {
      "cell_type": "markdown",
      "source": [
        "Strap in because these things are powerful but the needed baseline knowledge is a doozy."
      ],
      "metadata": {
        "id": "VPb4RIJ8Fzlf"
      }
    },
    {
      "cell_type": "code",
      "source": [
        "some_book = {\n",
        "  \"title\": \"The Watcher\",\n",
        "  \"pages\": 582,\n",
        "  \"rating\": 4.5,\n",
        "  42: 42,\n",
        "  69.0: 69,\n",
        "  (): \"my key is a tuple\"\n",
        "}\n",
        "\n",
        "# Defined using {}\n",
        "# Contains \"key-value pairs\"\n",
        "# Can be defined entirely on 1 line like the tuple above, but spreading across multiple lines helps with readability\n",
        "\n",
        "# Keys are how you access values INSTEAD of indexes\n",
        "# Keys MUST be unique\n",
        "# Keys can be strings, numbers, or tuples /containing/ strings and numbers\n",
        "\n",
        "# Values are,,, the values/items\n",
        "# Values can be literally anything you want, and can be duplicates of existing values\n",
        "# Even other entire tuples, lists, dictionaries, files, class objects, etc"
      ],
      "metadata": {
        "id": "mhKvkk6I7wkf"
      },
      "execution_count": null,
      "outputs": []
    },
    {
      "cell_type": "code",
      "source": [
        "# Access items with [] like usual, but use the desired key instead of an index\n",
        "\n",
        "print(some_book['title'])\n",
        "print(some_book[42.0])  # Type conversions are automatically done as necessary, typical Python\n",
        "print(some_book[()])"
      ],
      "metadata": {
        "id": "xpXbSgbtGABV"
      },
      "execution_count": null,
      "outputs": []
    },
    {
      "cell_type": "code",
      "source": [
        "# New items can be added just by using a new key\n",
        "print('before', some_book, '\\n')\n",
        "\n",
        "some_book['new_key'] = 'I didnt exist before'\n",
        "\n",
        "print('after', some_book)"
      ],
      "metadata": {
        "id": "irqQmMU0-EpG"
      },
      "execution_count": null,
      "outputs": []
    },
    {
      "cell_type": "code",
      "source": [
        "# Existing items can be changed\n",
        "# The expression for accessing a value can also be used like a variable name to change the same value\n",
        "print('before:', some_book[42])\n",
        "\n",
        "some_book[42] = 420\n",
        "\n",
        "print('after:', some_book[42])"
      ],
      "metadata": {
        "id": "rxXZl_df-5KS"
      },
      "execution_count": null,
      "outputs": []
    },
    {
      "cell_type": "markdown",
      "source": [
        "Dictionaries have lots of methods (associated functions) that perform more useful and complex operations. A list of them can be found [here](https://www.w3schools.com/python/python_dictionaries_methods.asp).\n",
        "\n",
        "Weirdly enough, I couldn't find a clean list like this in [Python's official documentation](https://docs.python.org)"
      ],
      "metadata": {
        "id": "tJNkhmwiAkUh"
      }
    },
    {
      "cell_type": "markdown",
      "source": [
        "Benefits:\n",
        "* Easily represent things whose list of properties will grow and shrink a lot\n",
        "  * Easy to add and remove key-value pairs\n",
        "  * This is probably how the classes we've made so far should be done. Much easier than constantly creating new ```this.X``` values inside class functions.\n",
        "* Can still loop through all the key-value pairs like tuple/list elements **(more on this later)**\n",
        "\n",
        "Drawbacks:\n",
        "* Basically none in most cases. There are jokes about how, if you don't know the answer to a technical interview question, just throw a dictionary/hash map/map at it and you'll get a good enough answer lmao"
      ],
      "metadata": {
        "id": "9oE7ey1eBSww"
      }
    },
    {
      "cell_type": "markdown",
      "source": [
        "### Lists"
      ],
      "metadata": {
        "id": "F-LStD2yKG3Z"
      }
    },
    {
      "cell_type": "code",
      "source": [
        "titles = [\"The Lightning Thief\", \"The Sea of Monsters\", \"The Titan's Curse\"]\n",
        "random_list = [\"The Watcher\", 420, ()]\n",
        "\n",
        "# Defined using []\n",
        "# Elements/items can have different types\n",
        "# Items can be duplicates of each other\n",
        "# Basically a tuple whose elements you can change"
      ],
      "metadata": {
        "id": "_jNdsbdszJTm"
      },
      "execution_count": null,
      "outputs": []
    },
    {
      "cell_type": "code",
      "source": [
        "# Access items using an index\n",
        "print(titles[1])\n",
        "\n",
        "# Change items in a similar way to dictionaries\n",
        "titles[1] = \"The Son of Neptune\"\n",
        "print(titles[1])"
      ],
      "metadata": {
        "id": "xCaRbGx8LyMU"
      },
      "execution_count": null,
      "outputs": []
    },
    {
      "cell_type": "markdown",
      "source": [
        "You may have noticed that I left something pretty important out of the dictionary and list sections so far. What if you need to delete elements from dictionaries or lists?\n",
        "\n",
        "I don't think removing things from lists/dictionaries is something you will be doing often, at least not until you find yourself *desperately* needing to optimize your scripts."
      ],
      "metadata": {
        "id": "sPGl5BKin5UL"
      }
    },
    {
      "cell_type": "markdown",
      "source": [
        "You can always clone a data structure and edit that new copy. It will require more memory, but this way you'll always have access to old versions of that structure. It can be helpful if you need to retrace your steps while writing or if you just want to see data both before and after some change.\n",
        "\n",
        "Changing data structures, especially in the middle of loops that use/reference them, can also easily cause bugs. Algorithms/loops you create may not work as expected because the data you're working on changes in the middle of execution.\n",
        "\n",
        "We've run into this before on your projects, but here's another (contrived) example for reference:"
      ],
      "metadata": {
        "id": "7cdVdzNgwC16"
      }
    },
    {
      "cell_type": "code",
      "source": [
        "alphabet = ['a', 'b', 'c', 'd', 'e', 'f', 'g', 'h', 'i', 'j', 'k', 'l', 'm', 'n', 'o', 'p', 'q', 'r', 's', 't', 'u', 'v', 'w', 'x', 'y', 'z']\n",
        "\n",
        "# You might initially expect this loop to print the entire alphabet, but...\n",
        "for letter in alphabet:\n",
        "  if letter == 'k':\n",
        "    alphabet.remove(letter) # changing the list as we go through it...\n",
        "\n",
        "  print(letter) # may give unexpected results."
      ],
      "metadata": {
        "id": "fcB_qi177c_s"
      },
      "execution_count": null,
      "outputs": []
    },
    {
      "cell_type": "markdown",
      "source": [
        "### NumPy Arrays"
      ],
      "metadata": {
        "id": "qsNF_M3rKKE0"
      }
    },
    {
      "cell_type": "markdown",
      "source": [
        "## Git and Github"
      ],
      "metadata": {
        "id": "zMYTS8aIy--_"
      }
    },
    {
      "cell_type": "code",
      "source": [],
      "metadata": {
        "id": "3nTN70a-KOuh"
      },
      "execution_count": null,
      "outputs": []
    },
    {
      "cell_type": "markdown",
      "source": [
        "# explain diagrams (UML?) and walk through example on call"
      ],
      "metadata": {
        "id": "1YYc3Bx3FNTK"
      }
    },
    {
      "cell_type": "markdown",
      "source": [
        "* bugs often come from faulty algos or wrong assumptions\n",
        "\n",
        "* break down steps even further\n",
        "  * get to usual stopping point\n",
        "  * for each step/bullet, ask yourself \"what data are needed to do this? what operations/changes are being done on that data?\"\n",
        "  *"
      ],
      "metadata": {
        "id": "VZWchKv0HAYi"
      }
    },
    {
      "cell_type": "markdown",
      "source": [
        "https://medium.com/codex/how-to-debug-jupyter-notebooks-in-visual-studio-code-3d36039c6f86\n",
        "\n",
        "https://code.visualstudio.com/docs/datascience/jupyter-notebooks#_debug-a-jupyter-notebook"
      ],
      "metadata": {
        "id": "6vNjoqqH5haY"
      }
    }
  ]
}